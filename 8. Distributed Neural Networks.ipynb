{
 "cells": [
  {
   "cell_type": "markdown",
   "metadata": {},
   "source": [
    "В прошлый раз мы уже использовали Azure ML чтобы обучать простенькие модели. В этот раз более агрессивно задействуем этот инструмент и будет обучать нейронные сети."
   ]
  },
  {
   "cell_type": "markdown",
   "metadata": {},
   "source": [
    "Подключаем Azure CLI"
   ]
  },
  {
   "cell_type": "code",
   "execution_count": null,
   "metadata": {},
   "outputs": [],
   "source": [
    "! sudo apt-get update && sudo apt-get install curl -y\n",
    "! pip install azureml-sdk[notebooks,automl] --ignore-installed\n",
    "! curl -sL https://aka.ms/InstallAzureCLIDeb | sudo bash\n",
    "! az extension add -n azure-cli-ml"
   ]
  },
  {
   "cell_type": "code",
   "execution_count": null,
   "metadata": {},
   "outputs": [],
   "source": [
    "! az login"
   ]
  },
  {
   "cell_type": "markdown",
   "metadata": {},
   "source": [
    "Создаем новый воркспейс"
   ]
  },
  {
   "cell_type": "code",
   "execution_count": null,
   "metadata": {},
   "outputs": [],
   "source": [
    "! az ml workspace create -w ml-workspace-2 -g hadoop2 --sku enterprise"
   ]
  },
  {
   "cell_type": "code",
   "execution_count": null,
   "metadata": {},
   "outputs": [],
   "source": [
    "import azureml.core\n",
    "from azureml.core.workspace import Workspace\n",
    "ws = Workspace.get(\n",
    "     name = \"ml-workspace-2\",\n",
    "     subscription_id = \"ddb191b9-4c87-419a-ab15-ed1e8a3999c2\",\n",
    "     resource_group = 'hadoop2')"
   ]
  },
  {
   "cell_type": "code",
   "execution_count": 4,
   "metadata": {},
   "outputs": [],
   "source": [
    "from azureml.core import Experiment\n",
    "experiment = Experiment(workspace=ws, name='experiment-1')"
   ]
  },
  {
   "cell_type": "markdown",
   "metadata": {},
   "source": [
    "Создаем кластер с машинами с GPU. Выделим сразу 3 ноды для работы."
   ]
  },
  {
   "cell_type": "code",
   "execution_count": 5,
   "metadata": {},
   "outputs": [
    {
     "name": "stdout",
     "output_type": "stream",
     "text": [
      "Creating a new compute target...\n",
      "Creating\n",
      "Succeeded.....................\n",
      "AmlCompute wait for completion finished\n",
      "\n",
      "Minimum number of nodes requested have been provisioned\n"
     ]
    }
   ],
   "source": [
    "from azureml.core.compute import ComputeTarget, AmlCompute\n",
    "from azureml.core.compute_target import ComputeTargetException\n",
    "\n",
    "cluster_name = \"gpucluster\"\n",
    "\n",
    "try:\n",
    "    compute_target = ComputeTarget(workspace=ws, name=cluster_name)\n",
    "    print('Found existing compute target')\n",
    "except ComputeTargetException:\n",
    "    print('Creating a new compute target...')\n",
    "    compute_config = AmlCompute.provisioning_configuration(vm_size='STANDARD_NC6', \n",
    "                                                           min_nodes=3, \n",
    "                                                           max_nodes=4)\n",
    "\n",
    "    compute_target = ComputeTarget.create(ws, cluster_name, compute_config)\n",
    "\n",
    "    compute_target.wait_for_completion(show_output=True, timeout_in_minutes=20)"
   ]
  },
  {
   "cell_type": "markdown",
   "metadata": {},
   "source": [
    "Создадим рабочую директорию для первого эксперимента. Попробуем сконструировать простенькую архитектуру для мниста и обучить ее на CPU на одной машине."
   ]
  },
  {
   "cell_type": "code",
   "execution_count": 6,
   "metadata": {},
   "outputs": [],
   "source": [
    "! mkdir -p keras"
   ]
  },
  {
   "cell_type": "code",
   "execution_count": 14,
   "metadata": {},
   "outputs": [
    {
     "name": "stdout",
     "output_type": "stream",
     "text": [
      "Overwriting keras/train.py\n"
     ]
    }
   ],
   "source": [
    "%%writefile keras/train.py\n",
    "\n",
    "from __future__ import print_function\n",
    "import keras\n",
    "from keras.datasets import mnist\n",
    "from keras.models import Sequential\n",
    "from keras.layers import Dense, Dropout, Flatten\n",
    "from keras.optimizers import RMSprop\n",
    "from keras.callbacks import Callback\n",
    "from keras.layers import Conv2D, MaxPooling2D\n",
    "from keras import backend as K\n",
    "import math\n",
    "import tensorflow as tf\n",
    "import matplotlib.pyplot as plt\n",
    "import numpy as np\n",
    "import argparse\n",
    "import os\n",
    "import glob\n",
    "import time\n",
    "\n",
    "from azureml.core import Run\n",
    "\n",
    "# ------------------------  Входные параметры\n",
    "\n",
    "parser = argparse.ArgumentParser()\n",
    "parser.add_argument('--batch-size', type=int, dest='batch_size', default=50, help='mini batch size for training')\n",
    "parser.add_argument('--learning-rate', type=float, dest='learning_rate', default=0.001, help='learning rate')\n",
    "parser.add_argument('--epochs', type=int, dest='epochs', default=5, help='number of epochs')\n",
    "\n",
    "args = parser.parse_args()\n",
    "\n",
    "n_epochs = args.epochs\n",
    "batch_size = args.batch_size\n",
    "learning_rate = args.learning_rate\n",
    "\n",
    "# --------------------------- Обработка данных для обучения\n",
    "\n",
    "num_classes = 10\n",
    "\n",
    "img_rows, img_cols = 28, 28\n",
    "\n",
    "(x_train, y_train), (x_test, y_test) = mnist.load_data()\n",
    "\n",
    "if K.image_data_format() == 'channels_first':\n",
    "    x_train = x_train.reshape(x_train.shape[0], 1, img_rows, img_cols)\n",
    "    x_test = x_test.reshape(x_test.shape[0], 1, img_rows, img_cols)\n",
    "    input_shape = (1, img_rows, img_cols)\n",
    "else:\n",
    "    x_train = x_train.reshape(x_train.shape[0], img_rows, img_cols, 1)\n",
    "    x_test = x_test.reshape(x_test.shape[0], img_rows, img_cols, 1)\n",
    "    input_shape = (img_rows, img_cols, 1)\n",
    "\n",
    "x_train = x_train.astype('float32')\n",
    "x_test = x_test.astype('float32')\n",
    "x_train /= 255\n",
    "x_test /= 255\n",
    "print('x_train shape:', x_train.shape)\n",
    "print(x_train.shape[0], 'train samples')\n",
    "print(x_test.shape[0], 'test samples')\n",
    "\n",
    "# Convert class vectors to binary class matrices\n",
    "y_train = keras.utils.to_categorical(y_train, num_classes)\n",
    "y_test = keras.utils.to_categorical(y_test, num_classes)\n",
    "\n",
    "# ------------------------------ Построение модели\n",
    "\n",
    "model = Sequential()\n",
    "model.add(Conv2D(32, kernel_size=(3, 3),\n",
    "                activation='relu',\n",
    "                input_shape=input_shape))\n",
    "model.add(Conv2D(64, (3, 3), activation='relu'))\n",
    "model.add(MaxPooling2D(pool_size=(2, 2)))\n",
    "model.add(Dropout(0.25))\n",
    "model.add(Flatten())\n",
    "model.add(Dense(128, activation='relu'))\n",
    "model.add(Dropout(0.5))\n",
    "model.add(Dense(num_classes, activation='softmax'))\n",
    "\n",
    "model.compile(loss=keras.losses.categorical_crossentropy,\n",
    "              optimizer=RMSprop(lr=learning_rate),\n",
    "              metrics=['accuracy'])\n",
    "\n",
    "# ---------------------------- Обучение модели\n",
    "\n",
    "start = time.time()\n",
    "\n",
    "run = Run.get_context()\n",
    "\n",
    "class LogRunMetrics(Callback):\n",
    "    def on_epoch_end(self, epoch, log):\n",
    "        run.log('Loss', log['loss'])\n",
    "        run.log('Accuracy', log['acc'])\n",
    "\n",
    "callbacks = [\n",
    "    LogRunMetrics()\n",
    "]\n",
    "\n",
    "history = model.fit(x_train, y_train,\n",
    "              batch_size=batch_size,\n",
    "              callbacks=callbacks,\n",
    "              epochs=n_epochs,\n",
    "              verbose=2,\n",
    "              validation_data=(x_test, y_test))\n",
    "\n",
    "score = model.evaluate(x_test, y_test, verbose=0)\n",
    "\n",
    "end = time.time()\n",
    "\n",
    "run.log(\"Final test loss\", score[0])\n",
    "print('Test loss:', score[0])\n",
    "\n",
    "run.log('Final test accuracy', score[1])\n",
    "print('Test accuracy:', score[1])\n",
    "\n",
    "time_delta = end - start\n",
    "run.log('Elapsed time', time_delta)\n",
    "print('Elapsed time', time_delta)\n",
    "\n",
    "\n",
    "plt.figure(figsize=(6, 3))\n",
    "plt.title('MNIST with Keras MLP ({} epochs)'.format(n_epochs), fontsize=14)\n",
    "plt.plot(history.history['acc'], 'b-', label='Accuracy', lw=4, alpha=0.5)\n",
    "plt.plot(history.history['loss'], 'r--', label='Loss', lw=4, alpha=0.5)\n",
    "plt.legend(fontsize=12)\n",
    "plt.grid(True)\n",
    "\n",
    "# log an image\n",
    "run.log_image('Accuracy vs Loss', plot=plt)\n",
    "\n",
    "# -------------------------------- Сохранение модели\n",
    "\n",
    "os.makedirs('./outputs/model', exist_ok=True)\n",
    "\n",
    "model_json = model.to_json()\n",
    "with open('./outputs/model/model.json', 'w') as f:\n",
    "    f.write(model_json)\n",
    "\n",
    "model.save_weights('./outputs/model/model.h5')\n",
    "print(\"model saved in ./outputs/model folder\")"
   ]
  },
  {
   "cell_type": "markdown",
   "metadata": {},
   "source": [
    "Мы используем Keras как надстройку над Tensorflow, поэтому будем создадим блок обучения с TF"
   ]
  },
  {
   "cell_type": "code",
   "execution_count": null,
   "metadata": {},
   "outputs": [],
   "source": [
    "from azureml.train.dnn import TensorFlow\n",
    "\n",
    "script_params = {\n",
    "    '--batch-size': 50,\n",
    "    '--learning-rate': 0.001,\n",
    "    '--epochs': 5\n",
    "}\n",
    "\n",
    "est = TensorFlow(source_directory='keras',\n",
    "                 script_params=script_params,\n",
    "                 compute_target=compute_target, \n",
    "                 entry_script='train.py', \n",
    "                 pip_packages=['keras==2.2.5','azureml-dataprep[pandas,fuse]','matplotlib'])"
   ]
  },
  {
   "cell_type": "markdown",
   "metadata": {},
   "source": [
    "Запускаем эксперимент"
   ]
  },
  {
   "cell_type": "code",
   "execution_count": null,
   "metadata": {},
   "outputs": [],
   "source": [
    "run = experiment.submit(est)\n",
    "run.wait_for_completion(show_output = True)"
   ]
  },
  {
   "cell_type": "markdown",
   "metadata": {},
   "source": [
    "После успешного завершения, регистрируем полученную модель.\n",
    "\n",
    "Для нашей модели нам потребуется написать собственный скрипт, который будет расчитывать предикт. \n",
    "\n",
    "В этом скрипте необходимо указать две функции - `init` и `run`. Первая будет запущена один раз при старте, вторая - каждый раз при вызове."
   ]
  },
  {
   "cell_type": "code",
   "execution_count": 17,
   "metadata": {},
   "outputs": [],
   "source": [
    "model = run.register_model(model_name='keras-mnist', model_path='outputs/model')"
   ]
  },
  {
   "cell_type": "code",
   "execution_count": 18,
   "metadata": {},
   "outputs": [
    {
     "name": "stdout",
     "output_type": "stream",
     "text": [
      "Overwriting keras/score.py\n"
     ]
    }
   ],
   "source": [
    "%%writefile keras/score.py\n",
    "import json\n",
    "import numpy as np\n",
    "import os\n",
    "from keras.models import model_from_json\n",
    "\n",
    "from azureml.core.model import Model\n",
    "\n",
    "def init():\n",
    "    global model\n",
    "    model_root = Model.get_model_path('keras-mnist')\n",
    "    with open(os.path.join(model_root, 'model.json'), 'r') as json_file:\n",
    "        model_json = json_file.read()\n",
    "    model = model_from_json(model_json)\n",
    "    model.load_weights(os.path.join(model_root, \"model.h5\"))   \n",
    "    model.compile(loss='binary_crossentropy', optimizer='rmsprop', metrics=['accuracy'])\n",
    "    \n",
    "def run(raw_data):\n",
    "    data = np.array(json.loads(raw_data)['data'])\n",
    "    y_hat = np.argmax(model.predict(data), axis=1)\n",
    "    return y_hat.tolist()"
   ]
  },
  {
   "cell_type": "markdown",
   "metadata": {},
   "source": [
    "Для выгрузки также потребуется указать дополнительные библиотеки, которые необходимо будет поставить"
   ]
  },
  {
   "cell_type": "code",
   "execution_count": 73,
   "metadata": {},
   "outputs": [
    {
     "name": "stdout",
     "output_type": "stream",
     "text": [
      "Overwriting req.txt\n"
     ]
    }
   ],
   "source": [
    "%%writefile keras/requirements.txt\n",
    "\n",
    "keras==2.2.5\n",
    "astor==0.8.1\n",
    "tensorflow==1.12\n",
    "azureml-defaults"
   ]
  },
  {
   "cell_type": "code",
   "execution_count": 76,
   "metadata": {},
   "outputs": [
    {
     "name": "stdout",
     "output_type": "stream",
     "text": [
      "Running.........................................................................\n",
      "Succeeded\n",
      "ACI service creation operation finished, operation \"Succeeded\"\n",
      "Healthy\n"
     ]
    }
   ],
   "source": [
    "from azureml.core.webservice import AciWebservice\n",
    "from azureml.core.model import InferenceConfig\n",
    "from azureml.core.model import Model\n",
    "from azureml.core.environment import Environment\n",
    "\n",
    "\n",
    "myenv = Environment.from_pip_requirements(name=\"mypipenv\", file_path='keras/requirements.txt')\n",
    "inference_config = InferenceConfig(entry_script=\"keras/score.py\", environment=myenv)\n",
    "\n",
    "aciconfig = AciWebservice.deploy_configuration(cpu_cores=1,\n",
    "                                               auth_enabled=False,\n",
    "                                               memory_gb=1,\n",
    "                                               tags={'name': 'mnist', 'framework': 'Keras'},\n",
    "                                               description='Keras on MNIST')\n",
    "\n",
    "service = Model.deploy(workspace=ws, \n",
    "                           name='keras-mnist-svc', \n",
    "                           models=[model], \n",
    "                           inference_config=inference_config, \n",
    "                           deployment_config=aciconfig)\n",
    "\n",
    "service.wait_for_deployment(True)\n",
    "print(service.state)"
   ]
  },
  {
   "cell_type": "code",
   "execution_count": 78,
   "metadata": {},
   "outputs": [
    {
     "name": "stdout",
     "output_type": "stream",
     "text": [
      "http://f8451e29-45c6-41d8-96da-55ea93dced8e.westus2.azurecontainer.io/score\n"
     ]
    }
   ],
   "source": [
    "print(service.scoring_uri)"
   ]
  },
  {
   "cell_type": "markdown",
   "metadata": {},
   "source": [
    "Проверим работу сервиса. Выгиузим 3 случайные картинки из мниста"
   ]
  },
  {
   "cell_type": "code",
   "execution_count": 83,
   "metadata": {},
   "outputs": [
    {
     "name": "stdout",
     "output_type": "stream",
     "text": [
      "Overwriting mnist_5.svm\n"
     ]
    }
   ],
   "source": [
    "%%writefile mnist_5.svm\n",
    "5 153:3 154:18 155:18 156:18 157:126 158:136 159:175 160:26 161:166 162:255 163:247 164:127 177:30 178:36 179:94 180:154 181:170 182:253 183:253 184:253 185:253 186:253 187:225 188:172 189:253 190:242 191:195 192:64 204:49 205:238 206:253 207:253 208:253 209:253 210:253 211:253 212:253 213:253 214:251 215:93 216:82 217:82 218:56 219:39 232:18 233:219 234:253 235:253 236:253 237:253 238:253 239:198 240:182 241:247 242:241 261:80 262:156 263:107 264:253 265:253 266:205 267:11 269:43 270:154 290:14 291:1 292:154 293:253 294:90 320:139 321:253 322:190 323:2 348:11 349:190 350:253 351:70 377:35 378:241 379:225 380:160 381:108 382:1 406:81 407:240 408:253 409:253 410:119 411:25 435:45 436:186 437:253 438:253 439:150 440:27 464:16 465:93 466:252 467:253 468:187 494:249 495:253 496:249 497:64 519:46 520:130 521:183 522:253 523:253 524:207 525:2 545:39 546:148 547:229 548:253 549:253 550:253 551:250 552:182 571:24 572:114 573:221 574:253 575:253 576:253 577:253 578:201 579:78 597:23 598:66 599:213 600:253 601:253 602:253 603:253 604:198 605:81 606:2 623:18 624:171 625:219 626:253 627:253 628:253 629:253 630:195 631:80 632:9 649:55 650:172 651:226 652:253 653:253 654:253 655:253 656:244 657:133 658:11 677:136 678:253 679:253 680:253 681:212 682:135 683:132 684:16\n",
    "0 128:51 129:159 130:253 131:159 132:50 155:48 156:238 157:252 158:252 159:252 160:237 182:54 183:227 184:253 185:252 186:239 187:233 188:252 189:57 190:6 208:10 209:60 210:224 211:252 212:253 213:252 214:202 215:84 216:252 217:253 218:122 236:163 237:252 238:252 239:252 240:253 241:252 242:252 243:96 244:189 245:253 246:167 263:51 264:238 265:253 266:253 267:190 268:114 269:253 270:228 271:47 272:79 273:255 274:168 290:48 291:238 292:252 293:252 294:179 295:12 296:75 297:121 298:21 301:253 302:243 303:50 317:38 318:165 319:253 320:233 321:208 322:84 329:253 330:252 331:165 344:7 345:178 346:252 347:240 348:71 349:19 350:28 357:253 358:252 359:195 372:57 373:252 374:252 375:63 385:253 386:252 387:195 400:198 401:253 402:190 413:255 414:253 415:196 427:76 428:246 429:252 430:112 441:253 442:252 443:148 455:85 456:252 457:230 458:25 467:7 468:135 469:253 470:186 471:12 483:85 484:252 485:223 494:7 495:131 496:252 497:225 498:71 511:85 512:252 513:145 521:48 522:165 523:252 524:173 539:86 540:253 541:225 548:114 549:238 550:253 551:162 567:85 568:252 569:249 570:146 571:48 572:29 573:85 574:178 575:225 576:253 577:223 578:167 579:56 595:85 596:252 597:252 598:252 599:229 600:215 601:252 602:252 603:252 604:196 605:130 623:28 624:199 625:252 626:252 627:253 628:252 629:252 630:233 631:145 652:25 653:128 654:252 655:253 656:252 657:141 658:37\n",
    "4 161:67 162:232 163:39 173:62 174:81 189:120 190:180 191:39 201:126 202:163 216:2 217:153 218:210 219:40 229:220 230:163 244:27 245:254 246:162 257:222 258:163 272:183 273:254 274:125 284:46 285:245 286:163 300:198 301:254 302:56 312:120 313:254 314:163 327:23 328:231 329:254 330:29 340:159 341:254 342:120 355:163 356:254 357:216 358:16 368:159 369:254 370:67 380:14 381:86 382:178 383:248 384:254 385:91 396:159 397:254 398:85 402:47 403:49 404:116 405:144 406:150 407:241 408:243 409:234 410:179 411:241 412:252 413:40 424:150 425:253 426:237 427:207 428:207 429:207 430:253 431:254 432:250 433:240 434:198 435:143 436:91 437:28 438:5 439:233 440:250 453:119 454:177 455:177 456:177 457:177 458:177 459:98 460:56 466:102 467:254 468:220 494:169 495:254 496:137 522:169 523:254 524:57 550:169 551:254 552:57 578:169 579:255 580:94 606:169 607:254 608:96 634:169 635:254 636:153 662:169 663:255 664:153 690:96 691:254 692:153"
   ]
  },
  {
   "cell_type": "code",
   "execution_count": 105,
   "metadata": {},
   "outputs": [],
   "source": [
    "%matplotlib inline\n",
    "from sklearn.datasets import load_svmlight_file\n",
    "import matplotlib.pyplot as plt\n",
    "import requests\n",
    "import json\n",
    "import numpy as np"
   ]
  },
  {
   "cell_type": "code",
   "execution_count": 106,
   "metadata": {},
   "outputs": [],
   "source": [
    "X, y = load_svmlight_file('mnist_5.svm', n_features=784)\n",
    "X = X / 255"
   ]
  },
  {
   "cell_type": "code",
   "execution_count": 107,
   "metadata": {},
   "outputs": [
    {
     "data": {
      "text/plain": [
       "<matplotlib.image.AxesImage at 0x7fe14b053470>"
      ]
     },
     "execution_count": 107,
     "metadata": {},
     "output_type": "execute_result"
    },
    {
     "data": {
      "image/png": "[encoded data removed]",
      "text/plain": [
       "<Figure size 432x288 with 1 Axes>"
      ]
     },
     "metadata": {
      "needs_background": "light"
     },
     "output_type": "display_data"
    }
   ],
   "source": [
    "plt.imshow(X[0].reshape(28, 28).toarray())"
   ]
  },
  {
   "cell_type": "code",
   "execution_count": 108,
   "metadata": {},
   "outputs": [
    {
     "name": "stdout",
     "output_type": "stream",
     "text": [
      "[5]\n"
     ]
    }
   ],
   "source": [
    "r_data = [X[0].toarray().reshape(28, 28, 1).tolist()]\n",
    "\n",
    "r = requests.post(service.scoring_uri, json={\n",
    "    'method': 'predict',\n",
    "    'data': r_data\n",
    "})\n",
    "print(r.json())"
   ]
  },
  {
   "cell_type": "code",
   "execution_count": 109,
   "metadata": {},
   "outputs": [
    {
     "data": {
      "text/plain": [
       "<matplotlib.image.AxesImage at 0x7fe12276bcc0>"
      ]
     },
     "execution_count": 109,
     "metadata": {},
     "output_type": "execute_result"
    },
    {
     "data": {
      "image/png": "[encoded data removed]",
      "text/plain": [
       "<Figure size 432x288 with 1 Axes>"
      ]
     },
     "metadata": {
      "needs_background": "light"
     },
     "output_type": "display_data"
    }
   ],
   "source": [
    "plt.imshow(X[1].reshape(28, 28).toarray())"
   ]
  },
  {
   "cell_type": "code",
   "execution_count": 110,
   "metadata": {},
   "outputs": [
    {
     "name": "stdout",
     "output_type": "stream",
     "text": [
      "[0]\n"
     ]
    }
   ],
   "source": [
    "r_data = [X[1].toarray().reshape(28, 28, 1).tolist()]\n",
    "\n",
    "r = requests.post(service.scoring_uri, json={\n",
    "    'method': 'predict',\n",
    "    'data': r_data\n",
    "})\n",
    "print(r.json())"
   ]
  },
  {
   "cell_type": "code",
   "execution_count": 111,
   "metadata": {},
   "outputs": [
    {
     "data": {
      "text/plain": [
       "<matplotlib.image.AxesImage at 0x7fe122745390>"
      ]
     },
     "execution_count": 111,
     "metadata": {},
     "output_type": "execute_result"
    },
    {
     "data": {
      "image/png": "[encoded data removed]",
      "text/plain": [
       "<Figure size 432x288 with 1 Axes>"
      ]
     },
     "metadata": {
      "needs_background": "light"
     },
     "output_type": "display_data"
    }
   ],
   "source": [
    "plt.imshow(X[2].reshape(28, 28).toarray())"
   ]
  },
  {
   "cell_type": "code",
   "execution_count": 112,
   "metadata": {},
   "outputs": [
    {
     "name": "stdout",
     "output_type": "stream",
     "text": [
      "[4]\n"
     ]
    }
   ],
   "source": [
    "r_data = [X[2].toarray().reshape(28, 28, 1).tolist()]\n",
    "\n",
    "r = requests.post(service.scoring_uri, json={\n",
    "    'method': 'predict',\n",
    "    'data': r_data\n",
    "})\n",
    "print(r.json())"
   ]
  },
  {
   "cell_type": "markdown",
   "metadata": {},
   "source": [
    "Попробуем теперь обучить эту же модель, но на GPU. Для этого не потребуется никаким образом менять наш код - просто укажем, что текущий train нужно будет запускать и использованием GPU"
   ]
  },
  {
   "cell_type": "code",
   "execution_count": null,
   "metadata": {},
   "outputs": [],
   "source": [
    "from azureml.train.dnn import TensorFlow\n",
    "\n",
    "script_params = {\n",
    "    '--batch-size': 50,\n",
    "    '--learning-rate': 0.001,\n",
    "    '--epochs': 20\n",
    "}\n",
    "\n",
    "est = TensorFlow(source_directory='keras',\n",
    "                 script_params=script_params,\n",
    "                 compute_target=compute_target, \n",
    "                 entry_script='train.py', \n",
    "                 pip_packages=['keras==2.2.5','azureml-dataprep[pandas,fuse]','matplotlib'],\n",
    "                 use_gpu=True)"
   ]
  },
  {
   "cell_type": "code",
   "execution_count": null,
   "metadata": {},
   "outputs": [],
   "source": [
    "run = experiment.submit(est)\n",
    "run.wait_for_completion(show_output = True)"
   ]
  },
  {
   "cell_type": "markdown",
   "metadata": {},
   "source": [
    "Итого:\n",
    "* 5 эпох на CPU - 244 секунды\n",
    "* 20 эпох на GPU - 221 секунда"
   ]
  },
  {
   "cell_type": "markdown",
   "metadata": {},
   "source": [
    "Попробуем обучить машину на GPU распределенно через Horovod. Для этого уже потребуется немного видоизменить наш код, явно добавив использоваение инструмента Horovod. Развертывание необходимой инфраструктуры для запуска берет на себя Azure."
   ]
  },
  {
   "cell_type": "code",
   "execution_count": 123,
   "metadata": {},
   "outputs": [],
   "source": [
    "! mkdir -p keras-distributed/"
   ]
  },
  {
   "cell_type": "code",
   "execution_count": 127,
   "metadata": {},
   "outputs": [
    {
     "name": "stdout",
     "output_type": "stream",
     "text": [
      "Overwriting keras-distributed/train.py\n"
     ]
    }
   ],
   "source": [
    "%%writefile keras-distributed/train.py\n",
    "from __future__ import print_function\n",
    "import keras\n",
    "from keras.datasets import mnist\n",
    "from keras.models import Sequential\n",
    "from keras.layers import Dense, Dropout, Flatten\n",
    "from keras.layers import Conv2D, MaxPooling2D\n",
    "from keras.callbacks import Callback\n",
    "from keras import backend as K\n",
    "import math\n",
    "import tensorflow as tf\n",
    "import horovod.keras as hvd\n",
    "import matplotlib.pyplot as plt\n",
    "import numpy as np\n",
    "import argparse\n",
    "import os\n",
    "import glob\n",
    "import time\n",
    "\n",
    "from azureml.core import Run\n",
    "\n",
    "# ------------------------ \n",
    "\n",
    "parser = argparse.ArgumentParser()\n",
    "parser.add_argument('--batch-size', type=int, dest='batch_size', default=50, help='mini batch size for training')\n",
    "parser.add_argument('--epochs', type=int, dest='epochs', default=5, help='number of epochs')\n",
    "\n",
    "args = parser.parse_args()\n",
    "\n",
    "n_epochs = args.epochs\n",
    "batch_size = args.batch_size\n",
    "num_classes = 10\n",
    "\n",
    "# -----------------------------\n",
    "\n",
    "# Horovod: initialize Horovod.\n",
    "hvd.init()\n",
    "\n",
    "# Horovod: pin GPU to be used to process local rank (one GPU per process)\n",
    "config = tf.ConfigProto()\n",
    "config.gpu_options.allow_growth = True\n",
    "config.gpu_options.visible_device_list = str(hvd.local_rank())\n",
    "K.set_session(tf.Session(config=config))\n",
    "\n",
    "# Horovod: adjust number of epochs based on number of GPUs.\n",
    "epochs = int(math.ceil(n_epochs / hvd.size()))\n",
    "\n",
    "# Input image dimensions\n",
    "img_rows, img_cols = 28, 28\n",
    "\n",
    "# The data, shuffled and split between train and test sets\n",
    "(x_train, y_train), (x_test, y_test) = mnist.load_data()\n",
    "\n",
    "if K.image_data_format() == 'channels_first':\n",
    "    x_train = x_train.reshape(x_train.shape[0], 1, img_rows, img_cols)\n",
    "    x_test = x_test.reshape(x_test.shape[0], 1, img_rows, img_cols)\n",
    "    input_shape = (1, img_rows, img_cols)\n",
    "else:\n",
    "    x_train = x_train.reshape(x_train.shape[0], img_rows, img_cols, 1)\n",
    "    x_test = x_test.reshape(x_test.shape[0], img_rows, img_cols, 1)\n",
    "    input_shape = (img_rows, img_cols, 1)\n",
    "\n",
    "x_train = x_train.astype('float32')\n",
    "x_test = x_test.astype('float32')\n",
    "x_train /= 255\n",
    "x_test /= 255\n",
    "print('x_train shape:', x_train.shape)\n",
    "print(x_train.shape[0], 'train samples')\n",
    "print(x_test.shape[0], 'test samples')\n",
    "\n",
    "# Convert class vectors to binary class matrices\n",
    "y_train = keras.utils.to_categorical(y_train, num_classes)\n",
    "y_test = keras.utils.to_categorical(y_test, num_classes)\n",
    "\n",
    "# ---------------------------------------\n",
    "\n",
    "model = Sequential()\n",
    "model.add(Conv2D(32, kernel_size=(3, 3),\n",
    "                activation='relu',\n",
    "                input_shape=input_shape))\n",
    "model.add(Conv2D(64, (3, 3), activation='relu'))\n",
    "model.add(MaxPooling2D(pool_size=(2, 2)))\n",
    "model.add(Dropout(0.25))\n",
    "model.add(Flatten())\n",
    "model.add(Dense(128, activation='relu'))\n",
    "model.add(Dropout(0.5))\n",
    "model.add(Dense(num_classes, activation='softmax'))\n",
    "\n",
    "# Horovod: adjust learning rate based on number of GPUs.\n",
    "opt = keras.optimizers.Adadelta(1.0 * hvd.size())\n",
    "\n",
    "# Horovod: add Horovod Distributed Optimizer.\n",
    "opt = hvd.DistributedOptimizer(opt)\n",
    "\n",
    "model.compile(loss=keras.losses.categorical_crossentropy,\n",
    "              optimizer=opt,\n",
    "              metrics=['accuracy'])\n",
    "\n",
    "# ------------------------------------------\n",
    "\n",
    "run = Run.get_context()\n",
    "\n",
    "class LogRunMetrics(Callback):\n",
    "    def on_epoch_end(self, epoch, log):\n",
    "        run.log('Loss', log['loss'])\n",
    "        run.log('Accuracy', log['acc'])\n",
    "\n",
    "callbacks = [\n",
    "    # Horovod: broadcast initial variable states from rank 0 to all other processes.\n",
    "    # This is necessary to ensure consistent initialization of all workers when\n",
    "    # training is started with random weights or restored from a checkpoint.\n",
    "    hvd.callbacks.BroadcastGlobalVariablesCallback(0),\n",
    "    LogRunMetrics()\n",
    "]\n",
    "\n",
    "# -------------------------------------------\n",
    "\n",
    "history = model.fit(x_train, y_train,\n",
    "          batch_size=batch_size,\n",
    "          callbacks=callbacks,\n",
    "          epochs=epochs,\n",
    "          verbose=1,\n",
    "          validation_data=(x_test, y_test))\n",
    "\n",
    "score = model.evaluate(x_test, y_test, verbose=0)\n",
    "\n",
    "if hvd.rank() == 0:\n",
    "\n",
    "    run.log(\"Final test loss\", score[0])\n",
    "    print('Test loss:', score[0])\n",
    "\n",
    "    run.log('Final test accuracy', score[1])\n",
    "    print('Test accuracy:', score[1])\n",
    "\n",
    "    plt.figure(figsize=(6, 3))\n",
    "    plt.title('MNIST with Keras MLP ({} epochs)'.format(n_epochs), fontsize=14)\n",
    "    plt.plot(history.history['acc'], 'b-', label='Accuracy', lw=4, alpha=0.5)\n",
    "    plt.plot(history.history['loss'], 'r--', label='Loss', lw=4, alpha=0.5)\n",
    "    plt.legend(fontsize=12)\n",
    "    plt.grid(True)\n",
    "\n",
    "    # log an image\n",
    "    run.log_image('Accuracy vs Loss', plot=plt)\n",
    "\n",
    "    os.makedirs('./outputs/model', exist_ok=True)\n",
    "\n",
    "    model_json = model.to_json()\n",
    "    with open('./outputs/model/model.json', 'w') as f:\n",
    "        f.write(model_json)\n",
    "\n",
    "    model.save_weights('./outputs/model/model.h5')\n",
    "    print(\"model saved in ./outputs/model folder\")\n",
    "    "
   ]
  },
  {
   "cell_type": "code",
   "execution_count": 125,
   "metadata": {},
   "outputs": [],
   "source": [
    "from azureml.train.dnn import TensorFlow, Mpi\n",
    "\n",
    "script_params = {\n",
    "    '--batch-size': 128,\n",
    "    '--epochs': 20\n",
    "}\n",
    "\n",
    "est = TensorFlow(source_directory='keras-distributed',\n",
    "                 script_params=script_params,\n",
    "                 compute_target=compute_target, \n",
    "                 entry_script='train.py', \n",
    "                 pip_packages=['keras==2.2.5','azureml-dataprep[pandas,fuse]','matplotlib'],\n",
    "                 node_count=3,\n",
    "                 distributed_training=Mpi(),\n",
    "                 framework_version='1.13', \n",
    "                 use_gpu=True,\n",
    "                )"
   ]
  },
  {
   "cell_type": "code",
   "execution_count": null,
   "metadata": {},
   "outputs": [],
   "source": [
    "run = experiment.submit(est)\n",
    "run.wait_for_completion(show_output = True)"
   ]
  },
  {
   "cell_type": "markdown",
   "metadata": {},
   "source": [
    "**Задача**:\n",
    "* Замерить время обучения распределенного Кераса и сравнить его с временем обучения предыдущих двух моделей\n",
    "* (Задача на доп. балл). Распределенно обучить сетку на гигантском мнисте - https://www.csie.ntu.edu.tw/~cjlin/libsvmtools/datasets/multiclass/mnist8m.bz2 (с этим датасетом мы уже работали на 6 семинаре). Замерить скорость обучения такой модели."
   ]
  },
  {
   "cell_type": "code",
   "execution_count": null,
   "metadata": {},
   "outputs": [],
   "source": []
  }
 ],
 "metadata": {
  "kernelspec": {
   "display_name": "Python 3",
   "language": "python",
   "name": "python3"
  },
  "language_info": {
   "codemirror_mode": {
    "name": "ipython",
    "version": 3
   },
   "file_extension": ".py",
   "mimetype": "text/x-python",
   "name": "python",
   "nbconvert_exporter": "python",
   "pygments_lexer": "ipython3",
   "version": "3.7.3"
  }
 },
 "nbformat": 4,
 "nbformat_minor": 2
}
