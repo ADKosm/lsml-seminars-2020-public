{
 "cells": [
  {
   "cell_type": "markdown",
   "metadata": {},
   "source": [
    "Сегодня не будет информации, напрямую связанной с машинным обучением. Сегодня будут обсуждаться полезные моменты вокруг."
   ]
  },
  {
   "cell_type": "markdown",
   "metadata": {},
   "source": [
    "# Bash & shell scripting"
   ]
  },
  {
   "cell_type": "markdown",
   "metadata": {},
   "source": [
    "Bash - наиболее популярная командная оболочка в UNIX-like система. Когда вы пользуетесь терминалом на своем компьютере, то вы почти наверное используете именно Bash.\n",
    "\n",
    "В баш встроено огромное количество функциональности, которая не ограничивается лишь запуском программ."
   ]
  },
  {
   "cell_type": "code",
   "execution_count": 2,
   "metadata": {},
   "outputs": [],
   "source": [
    "! mkdir -p bash"
   ]
  },
  {
   "cell_type": "code",
   "execution_count": 5,
   "metadata": {},
   "outputs": [
    {
     "name": "stdout",
     "output_type": "stream",
     "text": [
      "Overwriting bash/program-example.sh\n"
     ]
    }
   ],
   "source": [
    "%%writefile bash/program-example.sh\n",
    "\n",
    "function pow2 {\n",
    "    local argument=$1\n",
    "    if [[ argument -eq 1 ]]; then\n",
    "        echo 2\n",
    "    elif [[ $((argument % 2)) -eq 0 ]]; then\n",
    "        local new_pow=$((argument / 2))\n",
    "        local sqrt_result=$(pow2 $new_pow)\n",
    "        echo $((sqrt_result * sqrt_result))\n",
    "    else\n",
    "        local new_pow=$((argument - 1))\n",
    "        local halfed_result=$(pow2 $new_pow)\n",
    "        echo $((halfed_result * 2))\n",
    "    fi\n",
    "}\n",
    "\n",
    "word=$1\n",
    "power=$2\n",
    "\n",
    "limit=$(pow2 $power)\n",
    "\n",
    "for ((i = 0 ; i < limit ; i++)); do\n",
    "  echo $i $word\n",
    "done"
   ]
  },
  {
   "cell_type": "code",
   "execution_count": 6,
   "metadata": {},
   "outputs": [
    {
     "name": "stdout",
     "output_type": "stream",
     "text": [
      "0 hello\r\n",
      "1 hello\r\n",
      "2 hello\r\n",
      "3 hello\r\n",
      "4 hello\r\n",
      "5 hello\r\n",
      "6 hello\r\n",
      "7 hello\r\n",
      "8 hello\r\n",
      "9 hello\r\n",
      "10 hello\r\n",
      "11 hello\r\n",
      "12 hello\r\n",
      "13 hello\r\n",
      "14 hello\r\n",
      "15 hello\r\n"
     ]
    }
   ],
   "source": [
    "! bash bash/program-example.sh hello 4"
   ]
  },
  {
   "cell_type": "markdown",
   "metadata": {},
   "source": [
    "В примере выше, скрипт на чистом баше пишет указанное слово 2^N раз. \n",
    "\n",
    "Можно заметить, что несмотря на теоретическую возможность реализации любого алгоритма на этом языке, он не слишком удобен для подобных задач. Поэтому останавливаться долго на том, как лучше всего программировать алгоритмы на баш не будем, а посмотрим на более практичные и полезные способности."
   ]
  },
  {
   "cell_type": "markdown",
   "metadata": {},
   "source": [
    "#### Флаги исполнения\n",
    "При запуске башового скрипта бывает полезно указывать флаги исполнения. Это может помочь при запуске как своих, так и сторонних скриптов.\n",
    "\n",
    "* `-x` Печатает процесс исполнения скрипта. Полезно при отладке.\n",
    "* `-n` Только проверяет скрипт на синтаксическую корректность - не запускает.\n",
    "* `-i` Запускает в интерактивном режиме. Есть возможность пообщаться с рантайм-окружением скрипта.\n",
    "* `-e` Уронить скрипт после первой неудачной команды. Без указания скрипт попытается запустить все команды, которые в нем прописаны, что может привести к еще более печальным последствиям.\n",
    "\n",
    "Более полный список флагов можно найти здесь - https://www.tldp.org/LDP/abs/html/options.html"
   ]
  },
  {
   "cell_type": "code",
   "execution_count": 8,
   "metadata": {},
   "outputs": [
    {
     "name": "stdout",
     "output_type": "stream",
     "text": [
      "+ word=hello\r\n",
      "+ power=2\r\n",
      "++ pow2 2\r\n",
      "++ local argument=2\r\n",
      "++ [[ argument -eq 1 ]]\r\n",
      "++ [[ 0 -eq 0 ]]\r\n",
      "++ local new_pow=1\r\n",
      "+++ pow2 1\r\n",
      "+++ local argument=1\r\n",
      "+++ [[ argument -eq 1 ]]\r\n",
      "+++ echo 2\r\n",
      "++ local sqrt_result=2\r\n",
      "++ echo 4\r\n",
      "+ limit=4\r\n",
      "+ (( i = 0  ))\r\n",
      "+ (( i < limit  ))\r\n",
      "+ echo 0 hello\r\n",
      "0 hello\r\n",
      "+ (( i++ ))\r\n",
      "+ (( i < limit  ))\r\n",
      "+ echo 1 hello\r\n",
      "1 hello\r\n",
      "+ (( i++ ))\r\n",
      "+ (( i < limit  ))\r\n",
      "+ echo 2 hello\r\n",
      "2 hello\r\n",
      "+ (( i++ ))\r\n",
      "+ (( i < limit  ))\r\n",
      "+ echo 3 hello\r\n",
      "3 hello\r\n",
      "+ (( i++ ))\r\n",
      "+ (( i < limit  ))\r\n"
     ]
    }
   ],
   "source": [
    "! bash -x bash/program-example.sh hello 2"
   ]
  },
  {
   "cell_type": "code",
   "execution_count": 11,
   "metadata": {},
   "outputs": [],
   "source": [
    "! bash -n bash/program-example.sh hello 2"
   ]
  },
  {
   "cell_type": "code",
   "execution_count": 49,
   "metadata": {},
   "outputs": [
    {
     "name": "stdout",
     "output_type": "stream",
     "text": [
      "Overwriting bash/broken-curl.sh\n"
     ]
    }
   ],
   "source": [
    "%%writefile bash/broken-curl.sh\n",
    "\n",
    "curl http://non.existing.domain/file.txt > file.txt\n",
    "    \n",
    "echo -n \"Number of lines in file is equal to \"\n",
    "cat file.txt | wc -l"
   ]
  },
  {
   "cell_type": "code",
   "execution_count": 50,
   "metadata": {},
   "outputs": [
    {
     "name": "stdout",
     "output_type": "stream",
     "text": [
      "  % Total    % Received % Xferd  Average Speed   Time    Time     Time  Current\n",
      "                                 Dload  Upload   Total   Spent    Left  Speed\n",
      "  0     0    0     0    0     0      0      0 --:--:-- --:--:-- --:--:--     0curl: (6) Could not resolve host: non.existing.domain\n",
      "Number of lines in file is equal to 0\n"
     ]
    }
   ],
   "source": [
    "! bash bash/broken-curl.sh"
   ]
  },
  {
   "cell_type": "code",
   "execution_count": 51,
   "metadata": {},
   "outputs": [
    {
     "name": "stdout",
     "output_type": "stream",
     "text": [
      "  % Total    % Received % Xferd  Average Speed   Time    Time     Time  Current\n",
      "                                 Dload  Upload   Total   Spent    Left  Speed\n",
      "  0     0    0     0    0     0      0      0 --:--:-- --:--:-- --:--:--     0curl: (6) Could not resolve host: non.existing.domain\n"
     ]
    }
   ],
   "source": [
    "! bash -e bash/broken-curl.sh"
   ]
  },
  {
   "cell_type": "markdown",
   "metadata": {},
   "source": [
    "Полезно также указывать их в самом скрипте"
   ]
  },
  {
   "cell_type": "code",
   "execution_count": 52,
   "metadata": {},
   "outputs": [
    {
     "name": "stdout",
     "output_type": "stream",
     "text": [
      "Writing bash/broken-curl-flag.sh\n"
     ]
    }
   ],
   "source": [
    "%%writefile bash/broken-curl-flag.sh\n",
    "\n",
    "set -xe\n",
    "\n",
    "curl http://non.existing.domain/file.txt > file.txt\n",
    "    \n",
    "echo -n \"Number of lines in file is equal to \"\n",
    "cat file.txt | wc -l"
   ]
  },
  {
   "cell_type": "code",
   "execution_count": 53,
   "metadata": {},
   "outputs": [
    {
     "name": "stdout",
     "output_type": "stream",
     "text": [
      "+ curl http://non.existing.domain/file.txt\n",
      "  % Total    % Received % Xferd  Average Speed   Time    Time     Time  Current\n",
      "                                 Dload  Upload   Total   Spent    Left  Speed\n",
      "  0     0    0     0    0     0      0      0 --:--:-- --:--:-- --:--:--     0curl: (6) Could not resolve host: non.existing.domain\n"
     ]
    }
   ],
   "source": [
    "! bash bash/broken-curl-flag.sh"
   ]
  },
  {
   "cell_type": "markdown",
   "metadata": {},
   "source": [
    "#### Перенаправления и композиции\n",
    "\n",
    "Башовые команды работают преимущественно с потоками ввода и вывода. В самом первом примере можно заметить, что внутри функции используется не return а echo. Это связанно с тем, что возвращенным значением какой-либо команды является exit code этой команды, который используется для определения успешности завершения. Сами результаты работы внутри баша текуч через stdin\\stdout.\n",
    "\n",
    "* Вывод stdout можно перенаправить на запись в файл"
   ]
  },
  {
   "cell_type": "code",
   "execution_count": 54,
   "metadata": {},
   "outputs": [],
   "source": [
    "! echo hello > hello.txt"
   ]
  },
  {
   "cell_type": "code",
   "execution_count": 55,
   "metadata": {},
   "outputs": [
    {
     "name": "stdout",
     "output_type": "stream",
     "text": [
      "hello\r\n"
     ]
    }
   ],
   "source": [
    "! cat hello.txt"
   ]
  },
  {
   "cell_type": "code",
   "execution_count": 56,
   "metadata": {},
   "outputs": [],
   "source": [
    "! echo hello > hello.txt"
   ]
  },
  {
   "cell_type": "code",
   "execution_count": 57,
   "metadata": {},
   "outputs": [
    {
     "name": "stdout",
     "output_type": "stream",
     "text": [
      "hello\r\n"
     ]
    }
   ],
   "source": [
    "! cat hello.txt"
   ]
  },
  {
   "cell_type": "code",
   "execution_count": 58,
   "metadata": {},
   "outputs": [],
   "source": [
    "! echo hello >> hello.txt"
   ]
  },
  {
   "cell_type": "code",
   "execution_count": 59,
   "metadata": {},
   "outputs": [
    {
     "name": "stdout",
     "output_type": "stream",
     "text": [
      "hello\r\n",
      "hello\r\n"
     ]
    }
   ],
   "source": [
    "! cat hello.txt"
   ]
  },
  {
   "cell_type": "markdown",
   "metadata": {},
   "source": [
    "* И наоборот содержание файла можно подавать на вход stdin "
   ]
  },
  {
   "cell_type": "code",
   "execution_count": 66,
   "metadata": {},
   "outputs": [
    {
     "name": "stdout",
     "output_type": "stream",
     "text": [
      "['hello\\n', 'hello\\n']\r\n"
     ]
    }
   ],
   "source": [
    "! python3 -c \"import sys; print(list(sys.stdin))\" < hello.txt"
   ]
  },
  {
   "cell_type": "markdown",
   "metadata": {},
   "source": [
    "Если хочется направить на stdin несколько строк, но при этом не из файла, то можно воспользваться оператором `<<`. Для него нужно отдельно указать маркер начала и конца данных."
   ]
  },
  {
   "cell_type": "code",
   "execution_count": 87,
   "metadata": {},
   "outputs": [
    {
     "name": "stdout",
     "output_type": "stream",
     "text": [
      "['hello\\n', 'world\\n']\n"
     ]
    }
   ],
   "source": [
    "%%bash\n",
    "\n",
    "python3 -c \"import sys; print(list(sys.stdin))\" <<END\n",
    "hello\n",
    "world\n",
    "END"
   ]
  },
  {
   "cell_type": "markdown",
   "metadata": {},
   "source": [
    "Или аналогично с однострочной строкой"
   ]
  },
  {
   "cell_type": "code",
   "execution_count": 79,
   "metadata": {},
   "outputs": [
    {
     "name": "stdout",
     "output_type": "stream",
     "text": [
      "Writing bash/redirect-string-to-stdin.sh\n"
     ]
    }
   ],
   "source": [
    "%%writefile bash/redirect-string-to-stdin.sh\n",
    "\n",
    "python3 -c \"import sys; print(list(sys.stdin))\" <<< \"hello world\""
   ]
  },
  {
   "cell_type": "code",
   "execution_count": 80,
   "metadata": {},
   "outputs": [
    {
     "name": "stdout",
     "output_type": "stream",
     "text": [
      "['hello world\\n']\r\n"
     ]
    }
   ],
   "source": [
    "! bash bash/redirect-string-to-stdin.sh"
   ]
  },
  {
   "cell_type": "markdown",
   "metadata": {},
   "source": [
    "Комбинирование этих возможностей может позволить решить некоторые задачи. Например генерировать какой-то файл на лету"
   ]
  },
  {
   "cell_type": "code",
   "execution_count": 86,
   "metadata": {},
   "outputs": [
    {
     "name": "stdout",
     "output_type": "stream",
     "text": [
      "Overwriting bash/generate-file.sh\n"
     ]
    }
   ],
   "source": [
    "%%writefile bash/generate-file.sh\n",
    "\n",
    "argument=$1\n",
    "\n",
    "cat > file.txt <<END\n",
    "This file was automatically generated with argument $argument\n",
    "END"
   ]
  },
  {
   "cell_type": "code",
   "execution_count": 87,
   "metadata": {},
   "outputs": [],
   "source": [
    "! bash bash/generate-file.sh PUPA"
   ]
  },
  {
   "cell_type": "code",
   "execution_count": 88,
   "metadata": {},
   "outputs": [
    {
     "name": "stdout",
     "output_type": "stream",
     "text": [
      "This file was automatically generated with argument PUPA\r\n"
     ]
    }
   ],
   "source": [
    "! cat file.txt"
   ]
  },
  {
   "cell_type": "markdown",
   "metadata": {},
   "source": [
    "Или например решать проблема с интерактивными программами"
   ]
  },
  {
   "cell_type": "code",
   "execution_count": 95,
   "metadata": {},
   "outputs": [
    {
     "name": "stdout",
     "output_type": "stream",
     "text": [
      "Overwriting bash/interactive.py\n"
     ]
    }
   ],
   "source": [
    "%%writefile bash/interactive.py\n",
    "\n",
    "x = input('Do you want to print word `hello`? (Y/n)')\n",
    "print('hello' if x == 'y' else 'something else')"
   ]
  },
  {
   "cell_type": "code",
   "execution_count": 96,
   "metadata": {},
   "outputs": [
    {
     "name": "stdout",
     "output_type": "stream",
     "text": [
      "Overwriting bash/non-interactive.sh\n"
     ]
    }
   ],
   "source": [
    "%%writefile bash/non-interactive.sh\n",
    "\n",
    "python3 bash/interactive.py <<< \"y\"\n",
    "python3 bash/interactive.py <<< \"n\""
   ]
  },
  {
   "cell_type": "code",
   "execution_count": 97,
   "metadata": {},
   "outputs": [
    {
     "name": "stdout",
     "output_type": "stream",
     "text": [
      "Do you want to print word `hello`? (Y/n)hello\r\n",
      "Do you want to print word `hello`? (Y/n)something else\r\n"
     ]
    }
   ],
   "source": [
    "! bash bash/non-interactive.sh"
   ]
  },
  {
   "cell_type": "markdown",
   "metadata": {},
   "source": [
    "Отдельно можно отметить, что специально для вопросов yes\\no была создана программа `yes`. Единственное, что она делает - это без остановки печатает `y`.\n",
    "\n",
    "Для этого можно перенаправить вывод из команды в stdin. Для этог также есть свой оператор, однако он работает не так просто, как можно было бы подумать с первого раза. \n",
    "\n",
    "Команда вида `command1 <(command2)` работает следующим образом\n",
    "* Создается временный сокет (читай - файл) и в него потоком льется stdout от команды command2\n",
    "* Путь до этого виртуального файла передается в command1 через агрументы командной строки"
   ]
  },
  {
   "cell_type": "code",
   "execution_count": 88,
   "metadata": {},
   "outputs": [
    {
     "name": "stdout",
     "output_type": "stream",
     "text": [
      "/dev/fd/63\n"
     ]
    }
   ],
   "source": [
    "%%bash\n",
    "\n",
    "echo <(echo foo)"
   ]
  },
  {
   "cell_type": "code",
   "execution_count": 89,
   "metadata": {},
   "outputs": [
    {
     "name": "stdout",
     "output_type": "stream",
     "text": [
      "bar\n",
      "hello\n",
      "\n"
     ]
    }
   ],
   "source": [
    "%%bash\n",
    "\n",
    "cat <(echo bar)\n",
    "python3 -c \"import sys; print(open(sys.argv[1], 'r').read())\" <(echo hello)"
   ]
  },
  {
   "cell_type": "markdown",
   "metadata": {},
   "source": [
    "Таким образом, комбинируюя операторы `<` и `<()` можно перенаправлять вывод одной команды в ввод другой."
   ]
  },
  {
   "cell_type": "code",
   "execution_count": 90,
   "metadata": {},
   "outputs": [
    {
     "name": "stdout",
     "output_type": "stream",
     "text": [
      "-rw-rw-r-- 1 1001 1002   21509 Feb  2 20:17 3. Spark. DRAFT.ipynb\n",
      "-rw-r--r-- 1 root root   40717 Feb 17 22:27 5. Streaming algorithms.ipynb\n",
      "-rw-rw-r-- 1 1001 1002  320455 Mar  8 17:16 6. KNN problem.ipynb\n",
      "-rw-r--r-- 1 root root   23627 Feb 28 21:09 7.1 KubeflowKFP.ipynb\n",
      "-rw-r--r-- 1 root root   37269 Mar  4 08:47 7. Azure ML.ipynb\n",
      "-rw-r--r-- 1 root root     555 Mar  3 23:10 7. Azure ML second.ipynb\n",
      "-rw-r--r-- 1 root root  132192 Mar  3 19:56 7. Kubeflow.ipynb\n",
      "-rw-r--r-- 1 1001 1002   49064 Mar 10 18:17 8. Distributed Neural Networks.ipynb\n",
      "-rw-r--r-- 1 root root   45848 Mar 10 21:05 9. Additional notes.ipynb\n",
      "-rw-r--r-- 1 root root    5917 Feb 17 19:23 Azure cluster_1.1.ipynb\n",
      "-rw-r--r-- 1 root root   13073 Jan 19 19:20 MapReduce_1.2.ipynb\n",
      "-rw-r--r-- 1 root root   16217 Jan 19 19:23 MapReduce_2.ipynb\n",
      "-rw-rw-r-- 1 1001 1002  106413 Feb 11 20:29 Spark-SQL-VW.ipynb\n",
      "-rw-r--r-- 1 root root   48112 Feb 20 22:48 task1.ipynb\n",
      "-rw-r--r-- 1 root root    1025 Mar  8 12:25 Untitled1.ipynb\n",
      "-rw-r--r-- 1 root root    1937 Feb 23 11:47 Untitled.ipynb\n",
      "-rw-r--r-- 1 root root 5950907 Dec 25 13:45 VW_4.ipynb\n",
      "-rw-rw-r-- 1 1001 1002    8763 Feb 11 16:03 workspace.ipynb\n",
      "Do you want to print word `hello`? (Y/n)hello\n"
     ]
    }
   ],
   "source": [
    "%%bash\n",
    "\n",
    "cat < <(ls -l *.ipynb)\n",
    "\n",
    "python3 bash/interactive.py < <(yes)"
   ]
  },
  {
   "cell_type": "code",
   "execution_count": 91,
   "metadata": {},
   "outputs": [
    {
     "name": "stdout",
     "output_type": "stream",
     "text": [
      "1,71c1,593\n",
      "< bash\n",
      "< bunzip2\n",
      "< bzcat\n",
      "< bzcmp\n",
      "< bzdiff\n",
      "< bzegrep\n",
      "< bzexe\n",
      "< bzfgrep\n",
      "< bzgrep\n",
      "< bzip2\n",
      "< bzip2recover\n",
      "< bzless\n",
      "< bzmore\n",
      "< cat\n",
      "< chgrp\n",
      "< chmod\n",
      "< chown\n",
      "< cp\n",
      "< dash\n",
      "< date\n",
      "< dd\n",
      "< df\n",
      "< dir\n",
      "< dmesg\n",
      "< dnsdomainname\n",
      "< domainname\n",
      "< echo\n",
      "< egrep\n",
      "< false\n",
      "< fgrep\n",
      "< findmnt\n",
      "< grep\n",
      "< gunzip\n",
      "< gzexe\n",
      "< gzip\n",
      "< hostname\n",
      "< kill\n",
      "< ln\n",
      "< login\n",
      "< ls\n",
      "< lsblk\n",
      "< mkdir\n",
      "< mknod\n",
      "< mktemp\n",
      "< more\n",
      "< mount\n",
      "< mountpoint\n",
      "< mv\n",
      "< nano\n",
      "< nc\n",
      "< nc.traditional\n",
      "< netcat\n",
      "< nisdomainname\n",
      "< pidof\n",
      "< ps\n",
      "< pwd\n",
      "< rbash\n",
      "< readlink\n",
      "< rm\n",
      "< rmdir\n",
      "< rnano\n",
      "< run-parts\n",
      "< sed\n",
      "< sh\n",
      "< sh.distrib\n",
      "< sleep\n",
      "< stty\n",
      "< su\n",
      "< sync\n",
      "< tar\n",
      "< tempfile\n",
      "---\n",
      "> [\n",
      "> 2to3-2.7\n",
      "> addpart\n",
      "> addr2line\n",
      "> afm2pl\n",
      "> afm2tfm\n",
      "> aleph\n",
      "> allcm\n",
      "> allec\n",
      "> allneeded\n",
      "> apt\n",
      "> apt-cache\n",
      "> apt-cdrom\n",
      "> apt-config\n",
      "> apt-get\n",
      "> apt-key\n",
      "> apt-mark\n",
      "> ar\n",
      "> arch\n",
      "> as\n",
      "> aspell\n",
      "> aspell-import\n",
      "> authorindex\n",
      "> autosp\n",
      "> awk\n",
      "> az\n",
      "> b2sum\n",
      "> base32\n",
      "> base64\n",
      "> basename\n",
      "> bashbug\n",
      "> bibtex\n",
      "> bibtex8\n",
      "> bibtex.original\n",
      "> bibtexu\n",
      "> browse\n",
      "> c++\n",
      "> c89\n",
      "> c89-gcc\n",
      "> c99\n",
      "> c99-gcc\n",
      "> cachepic\n",
      "> captoinfo\n",
      "> catchsegv\n",
      "> cautious-launcher\n",
      "> cc\n",
      "> c++filt\n",
      "> chage\n",
      "> chattr\n",
      "> chcon\n",
      "> chfn\n",
      "> chrt\n",
      "> chsh\n",
      "> cksum\n",
      "> clear\n",
      "> clear_console\n",
      "> cmp\n",
      "> comm\n",
      "> compose\n",
      "> corelist\n",
      "> cpan\n",
      "> cpan5.26-x86_64-linux-gnu\n",
      "> cpp\n",
      "> cpp-7\n",
      "> c_rehash\n",
      "> csplit\n",
      "> ctags\n",
      "> ctags.emacs25\n",
      "> ctangle\n",
      "> ctie\n",
      "> curl\n",
      "> cut\n",
      "> cweave\n",
      "> debconf\n",
      "> debconf-apt-progress\n",
      "> debconf-communicate\n",
      "> debconf-copydb\n",
      "> debconf-escape\n",
      "> debconf-set-selections\n",
      "> debconf-show\n",
      "> deb-systemd-helper\n",
      "> deb-systemd-invoke\n",
      "> delpart\n",
      "> detex\n",
      "> devnag\n",
      "> dh_installtex\n",
      "> dh_python2\n",
      "> diff\n",
      "> diff3\n",
      "> dircolors\n",
      "> dirmngr\n",
      "> dirmngr-client\n",
      "> dirname\n",
      "> disdvi\n",
      "> dotlockfile\n",
      "> dpkg\n",
      "> dpkg-architecture\n",
      "> dpkg-buildflags\n",
      "> dpkg-buildpackage\n",
      "> dpkg-checkbuilddeps\n",
      "> dpkg-deb\n",
      "> dpkg-distaddfile\n",
      "> dpkg-divert\n",
      "> dpkg-genbuildinfo\n",
      "> dpkg-genchanges\n",
      "> dpkg-gencontrol\n",
      "> dpkg-gensymbols\n",
      "> dpkg-maintscript-helper\n",
      "> dpkg-mergechangelogs\n",
      "> dpkg-name\n",
      "> dpkg-parsechangelog\n",
      "> dpkg-query\n",
      "> dpkg-scanpackages\n",
      "> dpkg-scansources\n",
      "> dpkg-shlibdeps\n",
      "> dpkg-source\n",
      "> dpkg-split\n",
      "> dpkg-statoverride\n",
      "> dpkg-trigger\n",
      "> dpkg-vendor\n",
      "> dt2dv\n",
      "> du\n",
      "> dv2dt\n",
      "> dvi2fax\n",
      "> dvi2tty\n",
      "> dvibook\n",
      "> dviconcat\n",
      "> dvicopy\n",
      "> dvihp\n",
      "> dvilj\n",
      "> dvilj2p\n",
      "> dvilj4\n",
      "> dvilj4l\n",
      "> dvilj6\n",
      "> dvilualatex\n",
      "> dviluatex\n",
      "> dvipdfm\n",
      "> dvipdfmx\n",
      "> dvipdft\n",
      "> dvipos\n",
      "> dvips\n",
      "> dvired\n",
      "> dviselect\n",
      "> dvisvgm\n",
      "> dvitodvi\n",
      "> dvitomp\n",
      "> dvitype\n",
      "> dwp\n",
      "> ebb\n",
      "> ebrowse\n",
      "> ebrowse.emacs25\n",
      "> edit\n",
      "> editor\n",
      "> elfedit\n",
      "> emacs\n",
      "> emacs25\n",
      "> emacs25-x\n",
      "> emacsclient\n",
      "> emacsclient.emacs25\n",
      "> enc2xs\n",
      "> encguess\n",
      "> env\n",
      "> epspdf\n",
      "> epspdftk\n",
      "> eptex\n",
      "> etags\n",
      "> etags.emacs25\n",
      "> etex\n",
      "> euptex\n",
      "> exceltex\n",
      "> expand\n",
      "> expiry\n",
      "> expr\n",
      "> extractbb\n",
      "> factor\n",
      "> faillog\n",
      "> fallocate\n",
      "> fc-cache\n",
      "> fc-cat\n",
      "> fc-list\n",
      "> fc-match\n",
      "> fc-pattern\n",
      "> fc-query\n",
      "> fc-scan\n",
      "> fc-validate\n",
      "> fig4latex\n",
      "> find\n",
      "> flock\n",
      "> fmt\n",
      "> fmtutil\n",
      "> fmtutil-sys\n",
      "> fmtutil-user\n",
      "> fold\n",
      "> free\n",
      "> funzip\n",
      "> g++\n",
      "> g++-7\n",
      "> gcc\n",
      "> gcc-7\n",
      "> gcc-ar\n",
      "> gcc-ar-7\n",
      "> gcc-nm\n",
      "> gcc-nm-7\n",
      "> gcc-ranlib\n",
      "> gcc-ranlib-7\n",
      "> gcov\n",
      "> gcov-7\n",
      "> gcov-dump\n",
      "> gcov-dump-7\n",
      "> gcov-tool\n",
      "> gcov-tool-7\n",
      "> gencat\n",
      "> getconf\n",
      "> getent\n",
      "> getmapdl\n",
      "> getopt\n",
      "> gftodvi\n",
      "> gftopk\n",
      "> gftype\n",
      "> ginstall-info\n",
      "> git\n",
      "> git-receive-pack\n",
      "> git-shell\n",
      "> git-upload-archive\n",
      "> git-upload-pack\n",
      "> gold\n",
      "> gpasswd\n",
      "> gpg\n",
      "> gpg-agent\n",
      "> gpgconf\n",
      "> gpg-connect-agent\n",
      "> gpgparsemail\n",
      "> gpgsm\n",
      "> gpgsplit\n",
      "> gpgv\n",
      "> gpg-wks-server\n",
      "> gpg-zip\n",
      "> gprof\n",
      "> gregorio\n",
      "> groups\n",
      "> gsftopk\n",
      "> gtk-update-icon-cache\n",
      "> h2ph\n",
      "> h2xs\n",
      "> head\n",
      "> hostid\n",
      "> ht\n",
      "> htcontext\n",
      "> htlatex\n",
      "> htmex\n",
      "> httex\n",
      "> httexi\n",
      "> htxelatex\n",
      "> htxetex\n",
      "> i386\n",
      "> iconv\n",
      "> id\n",
      "> infocmp\n",
      "> infotocap\n",
      "> inimf\n",
      "> initex\n",
      "> inkscape\n",
      "> inkview\n",
      "> install\n",
      "> install-info\n",
      "> instmodsh\n",
      "> ionice\n",
      "> ipcmk\n",
      "> ipcrm\n",
      "> ipcs\n",
      "> ischroot\n",
      "> ispell-wrapper\n",
      "> jed\n",
      "> jed-script\n",
      "> join\n",
      "> json_pp\n",
      "> kbxutil\n",
      "> keep-one-running\n",
      "> kpseaccess\n",
      "> kpsepath\n",
      "> kpsereadlink\n",
      "> kpsestat\n",
      "> kpsetool\n",
      "> kpsewhere\n",
      "> kpsewhich\n",
      "> kpsexpand\n",
      "> last\n",
      "> lastb\n",
      "> lastlog\n",
      "> latex\n",
      "> latex-wordcount\n",
      "> lcf\n",
      "> ld\n",
      "> ld.bfd\n",
      "> ldd\n",
      "> ld.gold\n",
      "> libnetcfg\n",
      "> link\n",
      "> linux32\n",
      "> linux64\n",
      "> locale\n",
      "> locale-check\n",
      "> localedef\n",
      "> logger\n",
      "> logname\n",
      "> lsattr\n",
      "> lsb_release\n",
      "> lscpu\n",
      "> lsipc\n",
      "> lslocks\n",
      "> lslogins\n",
      "> lsmem\n",
      "> lsns\n",
      "> lspgpot\n",
      "> luajittex\n",
      "> lualatex\n",
      "> luatex\n",
      "> lwarpmk\n",
      "> lzcat\n",
      "> lzcmp\n",
      "> lzdiff\n",
      "> lzegrep\n",
      "> lzfgrep\n",
      "> lzgrep\n",
      "> lzless\n",
      "> lzma\n",
      "> lzmainfo\n",
      "> lzmore\n",
      "> m17n-db\n",
      "> mag\n",
      "> make\n",
      "> makedtx\n",
      "> make-first-existing-target\n",
      "> makeglossaries\n",
      "> makeglossaries-lite\n",
      "> makeindex\n",
      "> makejvf\n",
      "> mathspic\n",
      "> mawk\n",
      "> mcookie\n",
      "> md5sum\n",
      "> md5sum.textutils\n",
      "> mendex\n",
      "> mesg\n",
      "> mf\n",
      "> mflua\n",
      "> mfluajit\n",
      "> mfluajit-nowin\n",
      "> mflua-nowin\n",
      "> mf-nowin\n",
      "> mfplain\n",
      "> mft\n",
      "> migrate-pubring-from-classic-gpg\n",
      "> mk4ht\n",
      "> mkfifo\n",
      "> mkindex\n",
      "> mkocp\n",
      "> mkofm\n",
      "> mkpic\n",
      "> mktexfmt\n",
      "> mktexlsr\n",
      "> mktexmf\n",
      "> mktexpk\n",
      "> mktextfm\n",
      "> mpost\n",
      "> mptopdf\n",
      "> msxlint\n",
      "> mtrace\n",
      "> namei\n",
      "> nawk\n",
      "> newgrp\n",
      "> nice\n",
      "> nl\n",
      "> nm\n",
      "> nohup\n",
      "> nproc\n",
      "> nsenter\n",
      "> numfmt\n",
      "> objcopy\n",
      "> objdump\n",
      "> od\n",
      "> odvicopy\n",
      "> odvitype\n",
      "> ofm2opl\n",
      "> omfonts\n",
      "> openssl\n",
      "> opl2ofm\n",
      "> otangle\n",
      "> otp2ocp\n",
      "> outocp\n",
      "> ovf2ovp\n",
      "> ovp2ovf\n",
      "> pager\n",
      "> pandoc\n",
      "> paperconf\n",
      "> partx\n",
      "> passwd\n",
      "> paste\n",
      "> patch\n",
      "> patgen\n",
      "> pathchk\n",
      "> pbibtex\n",
      "> pdb\n",
      "> pdb2.7\n",
      "> pdb3\n",
      "> pdb3.6\n",
      "> pdfannotextractor\n",
      "> pdfatfi\n",
      "> pdfclose\n",
      "> pdfetex\n",
      "> pdflatex\n",
      "> pdfopen\n",
      "> pdftex\n",
      "> pdftosrc\n",
      "> pdvitomp\n",
      "> pdvitype\n",
      "> perl\n",
      "> perl5.26.1\n",
      "> perl5.26-x86_64-linux-gnu\n",
      "> perlbug\n",
      "> perldoc\n",
      "> perlivp\n",
      "> perltex\n",
      "> perlthanks\n",
      "> pfb2pfa\n",
      "> pgrep\n",
      "> pico\n",
      "> piconv\n",
      "> pinentry\n",
      "> pinentry-curses\n",
      "> pinky\n",
      "> pk2bm\n",
      "> pkill\n",
      "> pktogf\n",
      "> pktype\n",
      "> pl2pm\n",
      "> pldd\n",
      "> pltotf\n",
      "> pmap\n",
      "> pmpost\n",
      "> pmxab\n",
      "> pn2pdf\n",
      "> pod2html\n",
      "> pod2man\n",
      "> pod2text\n",
      "> pod2usage\n",
      "> podchecker\n",
      "> podselect\n",
      "> pooltype\n",
      "> ppltotf\n",
      "> pr\n",
      "> precat\n",
      "> prepmx\n",
      "> preunzip\n",
      "> prezip\n",
      "> prezip-bin\n",
      "> print\n",
      "> printenv\n",
      "> printf\n",
      "> prlimit\n",
      "> prove\n",
      "> ps2pk\n",
      "> ptar\n",
      "> ptardiff\n",
      "> ptargrep\n",
      "> ptex\n",
      "> ptftopl\n",
      "> ptx\n",
      "> pwdx\n",
      "> py3clean\n",
      "> py3compile\n",
      "> py3versions\n",
      "> pyclean\n",
      "> pycompile\n",
      "> pydoc\n",
      "> pydoc2.7\n",
      "> pydoc3\n",
      "> pydoc3.6\n",
      "> pygettext\n",
      "> pygettext2.7\n",
      "> pygettext3\n",
      "> pygettext3.6\n",
      "> pygmentex\n",
      "> python\n",
      "> python2\n",
      "> python2.7\n",
      "> python2.7-config\n",
      "> python2-config\n",
      "> python3\n",
      "> python3.6\n",
      "> python3.6m\n",
      "> python3m\n",
      "> python-config\n",
      "> pyversions\n",
      "> ranlib\n",
      "> readelf\n",
      "> realpath\n",
      "> rename.ul\n",
      "> renice\n",
      "> reset\n",
      "> resizepart\n",
      "> rev\n",
      "> rgrep\n",
      "> rpcgen\n",
      "> runcon\n",
      "> run-mailcap\n",
      "> run-one\n",
      "> run-one-constantly\n",
      "> run-one-until-failure\n",
      "> run-one-until-success\n",
      "> run-this-one\n",
      "> run-with-aspell\n",
      "> savelog\n",
      "> scor2prt\n",
      "> script\n",
      "> scriptreplay\n",
      "> sdiff\n",
      "> see\n",
      "> select-default-iwrap\n",
      "> select-editor\n",
      "> sensible-browser\n",
      "> sensible-editor\n",
      "> sensible-pager\n",
      "> seq\n",
      "> setarch\n",
      "> setsid\n",
      "> setterm\n",
      "> sg\n",
      "> sha1sum\n",
      "> sha224sum\n",
      "> sha256sum\n",
      "> sha384sum\n",
      "> sha512sum\n",
      "> shasum\n",
      "> shred\n",
      "> shuf\n",
      "> simpdftex\n",
      "> size\n",
      "> skill\n",
      "> slabtop\n",
      "> slsh\n",
      "> snice\n",
      "> sort\n",
      "> sotruss\n",
      "> splain\n",
      "> split\n",
      "> splitindex\n",
      "> sprof\n",
      "> stat\n",
      "> stdbuf\n",
      "> strings\n",
      "> strip\n",
      "> sudo\n",
      "> sudoedit\n",
      "> sudoreplay\n",
      "> sum\n",
      "> svn-multi\n",
      "> symcryptrun\n",
      "> synctex\n",
      "> t1ascii\n",
      "> t1asm\n",
      "> t1binary\n",
      "> t1disasm\n",
      "> t1mac\n",
      "> t1unmac\n",
      "> t4ht\n",
      "> tabs\n",
      "> tac\n",
      "> tail\n",
      "> tangle\n",
      "> taskset\n",
      "> teckit_compile\n",
      "> tee\n",
      "> test\n",
      "> tex\n",
      "> tex4ht\n",
      "> texdoc\n",
      "> texdoctk\n",
      "> texhash\n",
      "> texlua\n",
      "> texluac\n",
      "> texluajit\n",
      "> texluajitc\n",
      "> tftopl\n",
      "> thumbpdf\n",
      "> tic\n",
      "> tie\n",
      "> timeout\n",
      "> tlmgr\n",
      "> tload\n",
      "> tl-paper\n",
      "> toe\n",
      "> top\n",
      "73,78c595,646\n",
      "< true\n",
      "< umount\n",
      "< uname\n",
      "< uncompress\n",
      "< vdir\n",
      "< wdctl\n",
      "---\n",
      "> tpic2pdftex\n",
      "> tput\n",
      "> tr\n",
      "> truncate\n",
      "> tset\n",
      "> tsort\n",
      "> ttf2afm\n",
      "> ttf2pk\n",
      "> ttf2tfm\n",
      "> ttfdump\n",
      "> tty\n",
      "> tzselect\n",
      "> ucf\n",
      "> ucfq\n",
      "> ucfr\n",
      "> unexpand\n",
      "> uniq\n",
      "> unlink\n",
      "> unlzma\n",
      "> unshare\n",
      "> unxz\n",
      "> unzip\n",
      "> unzipsfx\n",
      "> upbibtex\n",
      "> update-alternatives\n",
      "> update-mime-database\n",
      "> updmap\n",
      "> updmap-sys\n",
      "> updmap-user\n",
      "> updvitomp\n",
      "> updvitype\n",
      "> upmendex\n",
      "> upmpost\n",
      "> uppltotf\n",
      "> uptex\n",
      "> uptftopl\n",
      "> uptime\n",
      "> users\n",
      "> utmpdump\n",
      "> vftovp\n",
      "> vlna\n",
      "> vmstat\n",
      "> vpe\n",
      "> vptovf\n",
      "> w\n",
      "> wall\n",
      "> watch\n",
      "> watchgnupg\n",
      "> wc\n",
      "> weave\n",
      "> wget\n",
      "> whereis\n",
      "80,90c648,728\n",
      "< ypdomainname\n",
      "< zcat\n",
      "< zcmp\n",
      "< zdiff\n",
      "< zegrep\n",
      "< zfgrep\n",
      "< zforce\n",
      "< zgrep\n",
      "< zless\n",
      "< zmore\n",
      "< znew\n",
      "---\n",
      "> who\n",
      "> whoami\n",
      "> wofm2opl\n",
      "> wopl2ofm\n",
      "> word-list-compress\n",
      "> wovf2ovp\n",
      "> wovp2ovf\n",
      "> w.procps\n",
      "> X11\n",
      "> x86_64\n",
      "> x86_64-linux-gnu-addr2line\n",
      "> x86_64-linux-gnu-ar\n",
      "> x86_64-linux-gnu-as\n",
      "> x86_64-linux-gnu-c++filt\n",
      "> x86_64-linux-gnu-cpp\n",
      "> x86_64-linux-gnu-cpp-7\n",
      "> x86_64-linux-gnu-dwp\n",
      "> x86_64-linux-gnu-elfedit\n",
      "> x86_64-linux-gnu-g++\n",
      "> x86_64-linux-gnu-g++-7\n",
      "> x86_64-linux-gnu-gcc\n",
      "> x86_64-linux-gnu-gcc-7\n",
      "> x86_64-linux-gnu-gcc-ar\n",
      "> x86_64-linux-gnu-gcc-ar-7\n",
      "> x86_64-linux-gnu-gcc-nm\n",
      "> x86_64-linux-gnu-gcc-nm-7\n",
      "> x86_64-linux-gnu-gcc-ranlib\n",
      "> x86_64-linux-gnu-gcc-ranlib-7\n",
      "> x86_64-linux-gnu-gcov\n",
      "> x86_64-linux-gnu-gcov-7\n",
      "> x86_64-linux-gnu-gcov-dump\n",
      "> x86_64-linux-gnu-gcov-dump-7\n",
      "> x86_64-linux-gnu-gcov-tool\n",
      "> x86_64-linux-gnu-gcov-tool-7\n",
      "> x86_64-linux-gnu-gold\n",
      "> x86_64-linux-gnu-gprof\n",
      "> x86_64-linux-gnu-ld\n",
      "> x86_64-linux-gnu-ld.bfd\n",
      "> x86_64-linux-gnu-ld.gold\n",
      "> x86_64-linux-gnu-nm\n",
      "> x86_64-linux-gnu-objcopy\n",
      "> x86_64-linux-gnu-objdump\n",
      "> x86_64-linux-gnu-python2.7-config\n",
      "> x86_64-linux-gnu-python-config\n",
      "> x86_64-linux-gnu-ranlib\n",
      "> x86_64-linux-gnu-readelf\n",
      "> x86_64-linux-gnu-size\n",
      "> x86_64-linux-gnu-strings\n",
      "> x86_64-linux-gnu-strip\n",
      "> xargs\n",
      "> xdg-desktop-icon\n",
      "> xdg-desktop-menu\n",
      "> xdg-email\n",
      "> xdg-icon-resource\n",
      "> xdg-mime\n",
      "> xdg-open\n",
      "> xdg-screensaver\n",
      "> xdg-settings\n",
      "> xdvi\n",
      "> xdvi.bin\n",
      "> xdvipdfmx\n",
      "> xdvi-xaw\n",
      "> xelatex\n",
      "> xetex\n",
      "> xhlatex\n",
      "> xsubpp\n",
      "> xz\n",
      "> xzcat\n",
      "> xzcmp\n",
      "> xzdiff\n",
      "> xzegrep\n",
      "> xzfgrep\n",
      "> xzgrep\n",
      "> xzless\n",
      "> xzmore\n",
      "> yes\n",
      "> yplan\n",
      "> zdump\n",
      "> zipdetails\n",
      "> zipgrep\n",
      "> zipinfo\n"
     ]
    },
    {
     "ename": "CalledProcessError",
     "evalue": "Command 'b'diff <(ls /bin) <(ls /usr/bin)\\n'' returned non-zero exit status 1.",
     "output_type": "error",
     "traceback": [
      "\u001b[0;31m---------------------------------------------------------------------------\u001b[0m",
      "\u001b[0;31mCalledProcessError\u001b[0m                        Traceback (most recent call last)",
      "\u001b[0;32m<ipython-input-91-56fe6c87819a>\u001b[0m in \u001b[0;36m<module>\u001b[0;34m\u001b[0m\n\u001b[0;32m----> 1\u001b[0;31m \u001b[0mget_ipython\u001b[0m\u001b[0;34m(\u001b[0m\u001b[0;34m)\u001b[0m\u001b[0;34m.\u001b[0m\u001b[0mrun_cell_magic\u001b[0m\u001b[0;34m(\u001b[0m\u001b[0;34m'bash'\u001b[0m\u001b[0;34m,\u001b[0m \u001b[0;34m''\u001b[0m\u001b[0;34m,\u001b[0m \u001b[0;34m'diff <(ls /bin) <(ls /usr/bin)\\n'\u001b[0m\u001b[0;34m)\u001b[0m\u001b[0;34m\u001b[0m\u001b[0;34m\u001b[0m\u001b[0m\n\u001b[0m",
      "\u001b[0;32m/opt/conda/lib/python3.7/site-packages/IPython/core/interactiveshell.py\u001b[0m in \u001b[0;36mrun_cell_magic\u001b[0;34m(self, magic_name, line, cell)\u001b[0m\n\u001b[1;32m   2360\u001b[0m             \u001b[0;32mwith\u001b[0m \u001b[0mself\u001b[0m\u001b[0;34m.\u001b[0m\u001b[0mbuiltin_trap\u001b[0m\u001b[0;34m:\u001b[0m\u001b[0;34m\u001b[0m\u001b[0;34m\u001b[0m\u001b[0m\n\u001b[1;32m   2361\u001b[0m                 \u001b[0margs\u001b[0m \u001b[0;34m=\u001b[0m \u001b[0;34m(\u001b[0m\u001b[0mmagic_arg_s\u001b[0m\u001b[0;34m,\u001b[0m \u001b[0mcell\u001b[0m\u001b[0;34m)\u001b[0m\u001b[0;34m\u001b[0m\u001b[0;34m\u001b[0m\u001b[0m\n\u001b[0;32m-> 2362\u001b[0;31m                 \u001b[0mresult\u001b[0m \u001b[0;34m=\u001b[0m \u001b[0mfn\u001b[0m\u001b[0;34m(\u001b[0m\u001b[0;34m*\u001b[0m\u001b[0margs\u001b[0m\u001b[0;34m,\u001b[0m \u001b[0;34m**\u001b[0m\u001b[0mkwargs\u001b[0m\u001b[0;34m)\u001b[0m\u001b[0;34m\u001b[0m\u001b[0;34m\u001b[0m\u001b[0m\n\u001b[0m\u001b[1;32m   2363\u001b[0m             \u001b[0;32mreturn\u001b[0m \u001b[0mresult\u001b[0m\u001b[0;34m\u001b[0m\u001b[0;34m\u001b[0m\u001b[0m\n\u001b[1;32m   2364\u001b[0m \u001b[0;34m\u001b[0m\u001b[0m\n",
      "\u001b[0;32m/opt/conda/lib/python3.7/site-packages/IPython/core/magics/script.py\u001b[0m in \u001b[0;36mnamed_script_magic\u001b[0;34m(line, cell)\u001b[0m\n\u001b[1;32m    140\u001b[0m             \u001b[0;32melse\u001b[0m\u001b[0;34m:\u001b[0m\u001b[0;34m\u001b[0m\u001b[0;34m\u001b[0m\u001b[0m\n\u001b[1;32m    141\u001b[0m                 \u001b[0mline\u001b[0m \u001b[0;34m=\u001b[0m \u001b[0mscript\u001b[0m\u001b[0;34m\u001b[0m\u001b[0;34m\u001b[0m\u001b[0m\n\u001b[0;32m--> 142\u001b[0;31m             \u001b[0;32mreturn\u001b[0m \u001b[0mself\u001b[0m\u001b[0;34m.\u001b[0m\u001b[0mshebang\u001b[0m\u001b[0;34m(\u001b[0m\u001b[0mline\u001b[0m\u001b[0;34m,\u001b[0m \u001b[0mcell\u001b[0m\u001b[0;34m)\u001b[0m\u001b[0;34m\u001b[0m\u001b[0;34m\u001b[0m\u001b[0m\n\u001b[0m\u001b[1;32m    143\u001b[0m \u001b[0;34m\u001b[0m\u001b[0m\n\u001b[1;32m    144\u001b[0m         \u001b[0;31m# write a basic docstring:\u001b[0m\u001b[0;34m\u001b[0m\u001b[0;34m\u001b[0m\u001b[0;34m\u001b[0m\u001b[0m\n",
      "\u001b[0;32m<decorator-gen-110>\u001b[0m in \u001b[0;36mshebang\u001b[0;34m(self, line, cell)\u001b[0m\n",
      "\u001b[0;32m/opt/conda/lib/python3.7/site-packages/IPython/core/magic.py\u001b[0m in \u001b[0;36m<lambda>\u001b[0;34m(f, *a, **k)\u001b[0m\n\u001b[1;32m    185\u001b[0m     \u001b[0;31m# but it's overkill for just that one bit of state.\u001b[0m\u001b[0;34m\u001b[0m\u001b[0;34m\u001b[0m\u001b[0;34m\u001b[0m\u001b[0m\n\u001b[1;32m    186\u001b[0m     \u001b[0;32mdef\u001b[0m \u001b[0mmagic_deco\u001b[0m\u001b[0;34m(\u001b[0m\u001b[0marg\u001b[0m\u001b[0;34m)\u001b[0m\u001b[0;34m:\u001b[0m\u001b[0;34m\u001b[0m\u001b[0;34m\u001b[0m\u001b[0m\n\u001b[0;32m--> 187\u001b[0;31m         \u001b[0mcall\u001b[0m \u001b[0;34m=\u001b[0m \u001b[0;32mlambda\u001b[0m \u001b[0mf\u001b[0m\u001b[0;34m,\u001b[0m \u001b[0;34m*\u001b[0m\u001b[0ma\u001b[0m\u001b[0;34m,\u001b[0m \u001b[0;34m**\u001b[0m\u001b[0mk\u001b[0m\u001b[0;34m:\u001b[0m \u001b[0mf\u001b[0m\u001b[0;34m(\u001b[0m\u001b[0;34m*\u001b[0m\u001b[0ma\u001b[0m\u001b[0;34m,\u001b[0m \u001b[0;34m**\u001b[0m\u001b[0mk\u001b[0m\u001b[0;34m)\u001b[0m\u001b[0;34m\u001b[0m\u001b[0;34m\u001b[0m\u001b[0m\n\u001b[0m\u001b[1;32m    188\u001b[0m \u001b[0;34m\u001b[0m\u001b[0m\n\u001b[1;32m    189\u001b[0m         \u001b[0;32mif\u001b[0m \u001b[0mcallable\u001b[0m\u001b[0;34m(\u001b[0m\u001b[0marg\u001b[0m\u001b[0;34m)\u001b[0m\u001b[0;34m:\u001b[0m\u001b[0;34m\u001b[0m\u001b[0;34m\u001b[0m\u001b[0m\n",
      "\u001b[0;32m/opt/conda/lib/python3.7/site-packages/IPython/core/magics/script.py\u001b[0m in \u001b[0;36mshebang\u001b[0;34m(self, line, cell)\u001b[0m\n\u001b[1;32m    243\u001b[0m             \u001b[0msys\u001b[0m\u001b[0;34m.\u001b[0m\u001b[0mstderr\u001b[0m\u001b[0;34m.\u001b[0m\u001b[0mflush\u001b[0m\u001b[0;34m(\u001b[0m\u001b[0;34m)\u001b[0m\u001b[0;34m\u001b[0m\u001b[0;34m\u001b[0m\u001b[0m\n\u001b[1;32m    244\u001b[0m         \u001b[0;32mif\u001b[0m \u001b[0margs\u001b[0m\u001b[0;34m.\u001b[0m\u001b[0mraise_error\u001b[0m \u001b[0;32mand\u001b[0m \u001b[0mp\u001b[0m\u001b[0;34m.\u001b[0m\u001b[0mreturncode\u001b[0m\u001b[0;34m!=\u001b[0m\u001b[0;36m0\u001b[0m\u001b[0;34m:\u001b[0m\u001b[0;34m\u001b[0m\u001b[0;34m\u001b[0m\u001b[0m\n\u001b[0;32m--> 245\u001b[0;31m             \u001b[0;32mraise\u001b[0m \u001b[0mCalledProcessError\u001b[0m\u001b[0;34m(\u001b[0m\u001b[0mp\u001b[0m\u001b[0;34m.\u001b[0m\u001b[0mreturncode\u001b[0m\u001b[0;34m,\u001b[0m \u001b[0mcell\u001b[0m\u001b[0;34m,\u001b[0m \u001b[0moutput\u001b[0m\u001b[0;34m=\u001b[0m\u001b[0mout\u001b[0m\u001b[0;34m,\u001b[0m \u001b[0mstderr\u001b[0m\u001b[0;34m=\u001b[0m\u001b[0merr\u001b[0m\u001b[0;34m)\u001b[0m\u001b[0;34m\u001b[0m\u001b[0;34m\u001b[0m\u001b[0m\n\u001b[0m\u001b[1;32m    246\u001b[0m \u001b[0;34m\u001b[0m\u001b[0m\n\u001b[1;32m    247\u001b[0m     \u001b[0;32mdef\u001b[0m \u001b[0m_run_script\u001b[0m\u001b[0;34m(\u001b[0m\u001b[0mself\u001b[0m\u001b[0;34m,\u001b[0m \u001b[0mp\u001b[0m\u001b[0;34m,\u001b[0m \u001b[0mcell\u001b[0m\u001b[0;34m,\u001b[0m \u001b[0mto_close\u001b[0m\u001b[0;34m)\u001b[0m\u001b[0;34m:\u001b[0m\u001b[0;34m\u001b[0m\u001b[0;34m\u001b[0m\u001b[0m\n",
      "\u001b[0;31mCalledProcessError\u001b[0m: Command 'b'diff <(ls /bin) <(ls /usr/bin)\\n'' returned non-zero exit status 1."
     ]
    }
   ],
   "source": [
    "%%bash\n",
    "diff <(ls /bin) <(ls /usr/bin)"
   ]
  },
  {
   "cell_type": "markdown",
   "metadata": {},
   "source": [
    "Идея соединять процессы через stdin\\stdout очень популярна и для этого есть более удобный интерфейс - pipes.\n",
    "\n",
    "Все команды, соединенные через `|` запускаются одновременно и общаются друг с другом через stdin\\stdout"
   ]
  },
  {
   "cell_type": "code",
   "execution_count": 92,
   "metadata": {},
   "outputs": [
    {
     "name": "stdout",
     "output_type": "stream",
     "text": [
      "hello\n",
      "140\n"
     ]
    }
   ],
   "source": [
    "%%bash\n",
    "\n",
    "echo hello | cat\n",
    "ls -l | cat | wc -l | python3 -c \"print(int(input()) * 2)\""
   ]
  },
  {
   "cell_type": "code",
   "execution_count": 61,
   "metadata": {},
   "outputs": [
    {
     "name": "stdout",
     "output_type": "stream",
     "text": [
      "Do you want to print word `hello`? (Y/n)hello\r\n",
      "yes: standard output: Broken pipe\r\n"
     ]
    }
   ],
   "source": [
    "! yes | python3 bash/interactive.py"
   ]
  },
  {
   "cell_type": "markdown",
   "metadata": {},
   "source": [
    "Помимо файлов и потоков ввода\\вывода, bash умеет возврашать результат работы команды напрямую в скрипт. Это можно использовать например чтобы перенаправлять в аргументы командной строки."
   ]
  },
  {
   "cell_type": "code",
   "execution_count": 62,
   "metadata": {},
   "outputs": [
    {
     "name": "stdout",
     "output_type": "stream",
     "text": [
      "hello\r\n"
     ]
    }
   ],
   "source": [
    "! echo $(echo hello)"
   ]
  },
  {
   "cell_type": "code",
   "execution_count": 76,
   "metadata": {},
   "outputs": [
    {
     "name": "stdout",
     "output_type": "stream",
     "text": [
      "bash/broken-curl-flag.sh bash/broken-curl.sh bash/diff-in-dir-files.sh\r\n"
     ]
    }
   ],
   "source": [
    "! echo $(ls bash/* | head -n 3)"
   ]
  },
  {
   "cell_type": "code",
   "execution_count": 77,
   "metadata": {},
   "outputs": [
    {
     "name": "stdout",
     "output_type": "stream",
     "text": [
      "\r\n",
      "set -xe\r\n",
      "\r\n",
      "curl http://non.existing.domain/file.txt > file.txt\r\n",
      "    \r\n",
      "echo -n \"Number of lines in file is equal to \"\r\n",
      "cat file.txt | wc -l\r\n",
      "\r\n",
      "curl http://non.existing.domain/file.txt > file.txt\r\n",
      "    \r\n",
      "echo -n \"Number of lines in file is equal to \"\r\n",
      "cat file.txt | wc -l\r\n",
      "\r\n",
      "diff <(ls /bin) <(ls /usr/bin)\r\n"
     ]
    }
   ],
   "source": [
    "! cat $(ls bash/* | head -n 3)"
   ]
  },
  {
   "cell_type": "code",
   "execution_count": 100,
   "metadata": {},
   "outputs": [
    {
     "name": "stdout",
     "output_type": "stream",
     "text": [
      "There are 3 lines in file\n"
     ]
    }
   ],
   "source": [
    "%%bash\n",
    "\n",
    "echo \"There are $(cat bash/non-interactive.sh | wc -l) lines in file\""
   ]
  },
  {
   "cell_type": "markdown",
   "metadata": {},
   "source": [
    "Отдельно стоит отметить, что ординарные скобки обрабатывают результат как просто строку, в то время как двойные скобки позволяют работать с арифметическими выражениями"
   ]
  },
  {
   "cell_type": "code",
   "execution_count": 301,
   "metadata": {},
   "outputs": [
    {
     "name": "stdout",
     "output_type": "stream",
     "text": [
      "73\n",
      "74\n",
      "24\n"
     ]
    }
   ],
   "source": [
    "%%bash\n",
    "\n",
    "hello=$(ls -l | wc -l)\n",
    "echo $hello\n",
    "echo $(( $hello + 1 ))\n",
    "\n",
    "echo $(( $(ls -l | wc -l) / 3 ))"
   ]
  },
  {
   "cell_type": "markdown",
   "metadata": {},
   "source": [
    "#### Построение пайплайнов\n",
    "\n",
    "Мы уже видели, каким образом можно запускать задачи параллельно, связывая их потоки ввода\\вывода.\n",
    "Для полноты картины нужно научиться составлять последовательные пайплайны\n",
    "\n",
    "* `&&` Последующие команды будут выполнены, только если успешно завершилась предыдущие"
   ]
  },
  {
   "cell_type": "code",
   "execution_count": 114,
   "metadata": {},
   "outputs": [
    {
     "name": "stdout",
     "output_type": "stream",
     "text": [
      "hello\n",
      "world\n"
     ]
    }
   ],
   "source": [
    "%%bash\n",
    "\n",
    "echo hello && echo world"
   ]
  },
  {
   "cell_type": "code",
   "execution_count": 116,
   "metadata": {},
   "outputs": [
    {
     "name": "stdout",
     "output_type": "stream",
     "text": [
      "rm: cannot remove 'non-exist-dir': No such file or directory\r\n"
     ]
    }
   ],
   "source": [
    "! rm non-exist-dir && echo world"
   ]
  },
  {
   "cell_type": "markdown",
   "metadata": {},
   "source": [
    "* `||` Последующие команды будут выполнены, только если неуспешно завершились предыдущие"
   ]
  },
  {
   "cell_type": "code",
   "execution_count": 118,
   "metadata": {},
   "outputs": [
    {
     "name": "stdout",
     "output_type": "stream",
     "text": [
      "hello\r\n"
     ]
    }
   ],
   "source": [
    "! echo hello || echo world"
   ]
  },
  {
   "cell_type": "code",
   "execution_count": 119,
   "metadata": {},
   "outputs": [
    {
     "name": "stdout",
     "output_type": "stream",
     "text": [
      "rm: cannot remove 'non-exists-dir': No such file or directory\r\n",
      "world\r\n"
     ]
    }
   ],
   "source": [
    "! rm non-exists-dir || echo world"
   ]
  },
  {
   "cell_type": "markdown",
   "metadata": {},
   "source": [
    "Команду можно изолизовать в подкоманду, используя скобки. Таким образом можно например обходить ситуации, когда не так важно, успешно завершилась команда или нет."
   ]
  },
  {
   "cell_type": "code",
   "execution_count": 120,
   "metadata": {},
   "outputs": [
    {
     "name": "stdout",
     "output_type": "stream",
     "text": [
      "rm: cannot remove 'non-exists-dir': No such file or directory\r\n",
      "world\r\n"
     ]
    }
   ],
   "source": [
    "! (rm non-exists-dir || exit 0) && echo world"
   ]
  },
  {
   "cell_type": "markdown",
   "metadata": {},
   "source": [
    "#### Синтаксический сахар\n",
    "\n",
    "Bash умеет распупочивать команды для более короткой записи."
   ]
  },
  {
   "cell_type": "code",
   "execution_count": 102,
   "metadata": {},
   "outputs": [
    {
     "name": "stdout",
     "output_type": "stream",
     "text": [
      "letter_A letter_B letter_C\n",
      "number_1 number_2 number_3 number_4 number_5\n"
     ]
    }
   ],
   "source": [
    "%%bash\n",
    "\n",
    "echo letter_{A,B,C}\n",
    "echo number_{1..5}"
   ]
  },
  {
   "cell_type": "code",
   "execution_count": 104,
   "metadata": {},
   "outputs": [
    {
     "name": "stdout",
     "output_type": "stream",
     "text": [
      "898\n"
     ]
    }
   ],
   "source": [
    "%%bash\n",
    "\n",
    "ls traffic_{feb_june,june_sep}/* | wc -l"
   ]
  },
  {
   "cell_type": "code",
   "execution_count": 113,
   "metadata": {},
   "outputs": [
    {
     "name": "stdout",
     "output_type": "stream",
     "text": [
      "A_1/dir_1/{subdir_1}\\n A_1/dir_1/{subdir_2}\\n A_1/dir_1/{subdir_3}\\n A_1/dir_2/{subdir_1}\\n A_1/dir_2/{subdir_2}\\n A_1/dir_2/{subdir_3}\\n A_2/dir_1/{subdir_1}\\n A_2/dir_1/{subdir_2}\\n A_2/dir_1/{subdir_3}\\n A_2/dir_2/{subdir_1}\\n A_2/dir_2/{subdir_2}\\n A_2/dir_2/{subdir_3}\\n A_3/dir_1/{subdir_1}\\n A_3/dir_1/{subdir_2}\\n A_3/dir_1/{subdir_3}\\n A_3/dir_2/{subdir_1}\\n A_3/dir_2/{subdir_2}\\n A_3/dir_2/{subdir_3}\\n A_4/dir_1/{subdir_1}\\n A_4/dir_1/{subdir_2}\\n A_4/dir_1/{subdir_3}\\n A_4/dir_2/{subdir_1}\\n A_4/dir_2/{subdir_2}\\n A_4/dir_2/{subdir_3}\\n A_5/dir_1/{subdir_1}\\n A_5/dir_1/{subdir_2}\\n A_5/dir_1/{subdir_3}\\n A_5/dir_2/{subdir_1}\\n A_5/dir_2/{subdir_2}\\n A_5/dir_2/{subdir_3}\\n B_1/dir_1/{subdir_1}\\n B_1/dir_1/{subdir_2}\\n B_1/dir_1/{subdir_3}\\n B_1/dir_2/{subdir_1}\\n B_1/dir_2/{subdir_2}\\n B_1/dir_2/{subdir_3}\\n B_2/dir_1/{subdir_1}\\n B_2/dir_1/{subdir_2}\\n B_2/dir_1/{subdir_3}\\n B_2/dir_2/{subdir_1}\\n B_2/dir_2/{subdir_2}\\n B_2/dir_2/{subdir_3}\\n B_3/dir_1/{subdir_1}\\n B_3/dir_1/{subdir_2}\\n B_3/dir_1/{subdir_3}\\n B_3/dir_2/{subdir_1}\\n B_3/dir_2/{subdir_2}\\n B_3/dir_2/{subdir_3}\\n B_4/dir_1/{subdir_1}\\n B_4/dir_1/{subdir_2}\\n B_4/dir_1/{subdir_3}\\n B_4/dir_2/{subdir_1}\\n B_4/dir_2/{subdir_2}\\n B_4/dir_2/{subdir_3}\\n B_5/dir_1/{subdir_1}\\n B_5/dir_1/{subdir_2}\\n B_5/dir_1/{subdir_3}\\n B_5/dir_2/{subdir_1}\\n B_5/dir_2/{subdir_2}\\n B_5/dir_2/{subdir_3}\\n C_1/dir_1/{subdir_1}\\n C_1/dir_1/{subdir_2}\\n C_1/dir_1/{subdir_3}\\n C_1/dir_2/{subdir_1}\\n C_1/dir_2/{subdir_2}\\n C_1/dir_2/{subdir_3}\\n C_2/dir_1/{subdir_1}\\n C_2/dir_1/{subdir_2}\\n C_2/dir_1/{subdir_3}\\n C_2/dir_2/{subdir_1}\\n C_2/dir_2/{subdir_2}\\n C_2/dir_2/{subdir_3}\\n C_3/dir_1/{subdir_1}\\n C_3/dir_1/{subdir_2}\\n C_3/dir_1/{subdir_3}\\n C_3/dir_2/{subdir_1}\\n C_3/dir_2/{subdir_2}\\n C_3/dir_2/{subdir_3}\\n C_4/dir_1/{subdir_1}\\n C_4/dir_1/{subdir_2}\\n C_4/dir_1/{subdir_3}\\n C_4/dir_2/{subdir_1}\\n C_4/dir_2/{subdir_2}\\n C_4/dir_2/{subdir_3}\\n C_5/dir_1/{subdir_1}\\n C_5/dir_1/{subdir_2}\\n C_5/dir_1/{subdir_3}\\n C_5/dir_2/{subdir_1}\\n C_5/dir_2/{subdir_2}\\n C_5/dir_2/{subdir_3}\\n\n"
     ]
    }
   ],
   "source": [
    "%%bash\n",
    "\n",
    "echo {A,B,C}_{1..5}/{dir_1,dir_2}/{subdir_{1..3}}\\\\n"
   ]
  },
  {
   "cell_type": "markdown",
   "metadata": {},
   "source": [
    "Bash умеет запускать предыдущую команду через `!!`"
   ]
  },
  {
   "cell_type": "code",
   "execution_count": 124,
   "metadata": {},
   "outputs": [
    {
     "name": "stdout",
     "output_type": "stream",
     "text": [
      "hello\r\n"
     ]
    }
   ],
   "source": [
    "$ echo hello\n",
    "$ !!"
   ]
  },
  {
   "cell_type": "markdown",
   "metadata": {},
   "source": [
    "Через установку `alias` можно самому добавлять команды для новых символов"
   ]
  },
  {
   "cell_type": "code",
   "execution_count": null,
   "metadata": {},
   "outputs": [],
   "source": [
    "$ alias check='ls -l /bin | wc -l'\n",
    "$ check"
   ]
  },
  {
   "cell_type": "markdown",
   "metadata": {},
   "source": [
    "#### Полезные программы\n",
    "\n",
    "Сами программы не являются часть баша, однако их можно использовать гораздо эффективнее, комбинируя их работу с башовыми трюками"
   ]
  },
  {
   "cell_type": "code",
   "execution_count": 128,
   "metadata": {},
   "outputs": [
    {
     "name": "stdout",
     "output_type": "stream",
     "text": [
      "\n",
      "x = input('Do you want to print word `hello`? (Y/n)')\n",
      "print('hello' if x == 'y' else 'something else')\n",
      "\n",
      "x = input('Do you want to print word `hello`? (Y/n)')\n",
      "\n",
      "x = input"
     ]
    }
   ],
   "source": [
    "# head читает определенное количество данных с начала файла\n",
    "! head bash/interactive.py\n",
    "! head -n 2 bash/interactive.py  # 2 строки\n",
    "! head -c 10 bash/interactive.py # 10 байт"
   ]
  },
  {
   "cell_type": "code",
   "execution_count": 129,
   "metadata": {},
   "outputs": [
    {
     "name": "stdout",
     "output_type": "stream",
     "text": [
      "\n",
      "x = input('Do you want to print word `hello`? (Y/n)')\n",
      "print('hello' if x == 'y' else 'something else')\n",
      "x = input('Do you want to print word `hello`? (Y/n)')\n",
      "print('hello' if x == 'y' else 'something else')\n",
      "x = input('Do you want to print word `hello`? (Y/n)')\n",
      "print('hello' if x == 'y' else 'something else')\n"
     ]
    }
   ],
   "source": [
    "# tail делает тоже самое, что и head, но с конца\n",
    "! tail bash/interactive.py\n",
    "! tail -n 2 bash/interactive.py # 2 строки\n",
    "! tail -n +2 bash/interactive.py # все строки после 2"
   ]
  },
  {
   "cell_type": "markdown",
   "metadata": {},
   "source": [
    "`tail -f <file>` позволит следить за изменениями в файле"
   ]
  },
  {
   "cell_type": "code",
   "execution_count": 131,
   "metadata": {},
   "outputs": [],
   "source": [
    "%%bash \n",
    "\n",
    "cat > example.txt <<END\n",
    "3\n",
    "5\n",
    "1\n",
    "2\n",
    "6\n",
    "5\n",
    "9\n",
    "4\n",
    "5\n",
    "6\n",
    "7\n",
    "3\n",
    "2\n",
    "1\n",
    "5\n",
    "6\n",
    "END"
   ]
  },
  {
   "cell_type": "code",
   "execution_count": 132,
   "metadata": {},
   "outputs": [
    {
     "name": "stdout",
     "output_type": "stream",
     "text": [
      "1\r\n",
      "1\r\n",
      "2\r\n",
      "2\r\n",
      "3\r\n",
      "3\r\n",
      "4\r\n",
      "5\r\n",
      "5\r\n",
      "5\r\n",
      "5\r\n",
      "6\r\n",
      "6\r\n",
      "6\r\n",
      "7\r\n",
      "9\r\n"
     ]
    }
   ],
   "source": [
    "# sort сортирует содержимое входа\n",
    "! sort example.txt"
   ]
  },
  {
   "cell_type": "code",
   "execution_count": 133,
   "metadata": {},
   "outputs": [
    {
     "name": "stdout",
     "output_type": "stream",
     "text": [
      "1\r\n",
      "1\r\n",
      "2\r\n",
      "2\r\n",
      "3\r\n",
      "3\r\n",
      "4\r\n",
      "5\r\n",
      "5\r\n",
      "5\r\n",
      "5\r\n",
      "6\r\n",
      "6\r\n",
      "6\r\n",
      "7\r\n",
      "9\r\n"
     ]
    }
   ],
   "source": [
    "! cat example.txt | sort"
   ]
  },
  {
   "cell_type": "code",
   "execution_count": 138,
   "metadata": {},
   "outputs": [
    {
     "name": "stdout",
     "output_type": "stream",
     "text": [
      "3\r\n",
      "5\r\n",
      "1\r\n",
      "2\r\n",
      "6\r\n",
      "5\r\n",
      "9\r\n",
      "4\r\n",
      "5\r\n",
      "6\r\n",
      "7\r\n",
      "3\r\n",
      "2\r\n",
      "1\r\n",
      "5\r\n",
      "6\r\n"
     ]
    }
   ],
   "source": [
    "# uniq отбирает только уникальные значения, но ему на вход необходимо подавать уже отсортированный массив\n",
    "! uniq example.txt"
   ]
  },
  {
   "cell_type": "code",
   "execution_count": 139,
   "metadata": {},
   "outputs": [
    {
     "name": "stdout",
     "output_type": "stream",
     "text": [
      "1\r\n",
      "2\r\n",
      "3\r\n",
      "4\r\n",
      "5\r\n",
      "6\r\n",
      "7\r\n",
      "9\r\n"
     ]
    }
   ],
   "source": [
    "! cat example.txt | sort | uniq"
   ]
  },
  {
   "cell_type": "code",
   "execution_count": 140,
   "metadata": {},
   "outputs": [
    {
     "name": "stdout",
     "output_type": "stream",
     "text": [
      "2\r\n"
     ]
    }
   ],
   "source": [
    "# cut парсит строки с разделителем, что позволяет легко манипулировать различными типами данных\n",
    "! echo \"1,2,3,4\" | cut -d',' -f2"
   ]
  },
  {
   "cell_type": "code",
   "execution_count": 145,
   "metadata": {},
   "outputs": [
    {
     "name": "stdout",
     "output_type": "stream",
     "text": [
      "2014-02-13T11:30:00,7\r\n",
      "2014-02-13T11:35:00,5\r\n",
      "2014-02-13T11:40:00,6\r\n",
      "2014-02-13T11:45:00,3\r\n",
      "2014-02-13T11:50:00,6\r\n",
      "2014-02-13T11:55:00,9\r\n",
      "2014-02-13T12:00:00,11\r\n",
      "2014-02-13T12:05:00,8\r\n",
      "2014-02-13T12:10:00,10\r\n",
      "2014-02-13T12:15:00,12\r\n",
      "cut: write error: Broken pipe\r\n"
     ]
    }
   ],
   "source": [
    "! cat traffic_feb_june/trafficData158324.csv | cut -d',' -f6,7 | head"
   ]
  },
  {
   "cell_type": "code",
   "execution_count": 159,
   "metadata": {},
   "outputs": [
    {
     "name": "stdout",
     "output_type": "stream",
     "text": [
      "10000005\r\n",
      "10000454\r\n",
      "10000903\r\n",
      "10001352\r\n",
      "10001801\r\n",
      "10002250\r\n",
      "10002699\r\n",
      "10003148\r\n",
      "10003597\r\n",
      "10004046\r\n",
      "uniq: write error: Broken pipe\r\n"
     ]
    }
   ],
   "source": [
    "! cat traffic_feb_june/trafficData158324.csv | cut -d',' -f8 | sort | uniq | head"
   ]
  },
  {
   "cell_type": "code",
   "execution_count": 162,
   "metadata": {},
   "outputs": [
    {
     "name": "stdout",
     "output_type": "stream",
     "text": [
      "16\r\n"
     ]
    }
   ],
   "source": [
    "# wc - word count - подсчитывает количество симолов на входе. Опция -l позволяет считать количество строк\n",
    "! cat example.txt | wc -l"
   ]
  },
  {
   "cell_type": "code",
   "execution_count": 163,
   "metadata": {},
   "outputs": [
    {
     "name": "stdout",
     "output_type": "stream",
     "text": [
      "32059\r\n"
     ]
    }
   ],
   "source": [
    "# Подсчет уникальных элементов \n",
    "! cat traffic_feb_june/trafficData158324.csv | cut -d',' -f8 | sort | uniq | wc -l"
   ]
  },
  {
   "cell_type": "code",
   "execution_count": 164,
   "metadata": {},
   "outputs": [
    {
     "name": "stdout",
     "output_type": "stream",
     "text": [
      "2\r\n",
      "2\r\n"
     ]
    }
   ],
   "source": [
    "# grep - Позволяет обрабатывать входы регулярными выражениями.\n",
    "! cat example.txt | grep 2"
   ]
  },
  {
   "cell_type": "code",
   "execution_count": 165,
   "metadata": {},
   "outputs": [
    {
     "name": "stdout",
     "output_type": "stream",
     "text": [
      "3\r\n",
      "5\r\n",
      "1\r\n",
      "2\r\n",
      "6\r\n",
      "5\r\n",
      "9\r\n",
      "4\r\n",
      "5\r\n",
      "6\r\n",
      "7\r\n",
      "3\r\n",
      "2\r\n",
      "1\r\n",
      "5\r\n",
      "6\r\n"
     ]
    }
   ],
   "source": [
    "! cat example.txt | grep -e \"[0-9]*\""
   ]
  },
  {
   "cell_type": "code",
   "execution_count": 169,
   "metadata": {},
   "outputs": [
    {
     "name": "stdout",
     "output_type": "stream",
     "text": [
      "      \"> uniq\\n\",\r\n",
      "    \"# uniq отбирает только уникальные значения, но ему на вход необходимо подавать уже отсортированный массив\\n\",\r\n",
      "    \"! uniq example.txt\"\r\n",
      "    \"! cat example.txt | sort | uniq\"\r\n",
      "      \"uniq: write error: Broken pipe\\r\\n\"\r\n",
      "    \"! cat traffic_feb_june/trafficData158324.csv | cut -d',' -f8 | sort | uniq | head\"\r\n",
      "    \"! cat traffic_feb_june/trafficData158324.csv | cut -d',' -f8 | sort | uniq | wc -l\"\r\n",
      "    \"! cat 9.\\\\ Additional\\\\ notes.ipynb | grep -e '{uniq,cut}'\"\r\n"
     ]
    }
   ],
   "source": [
    "! cat 9.\\ Additional\\ notes.ipynb | grep -e 'uniq'"
   ]
  },
  {
   "cell_type": "code",
   "execution_count": 182,
   "metadata": {},
   "outputs": [
    {
     "name": "stdout",
     "output_type": "stream",
     "text": [
      "13573137\r\n"
     ]
    }
   ],
   "source": [
    "! cat $(ls traffic_feb_june/* | grep -e \".*\\.csv$\") | grep -e \"^OK\" | cut -d',' -f8 | sort | uniq | wc -l"
   ]
  },
  {
   "cell_type": "code",
   "execution_count": 185,
   "metadata": {},
   "outputs": [
    {
     "name": "stdout",
     "output_type": "stream",
     "text": [
      "9. Additional notes.ipynb:    \"# cut парсит строки с разделителем, что позволяет легко манипулировать различными типами данных\\n\",\r\n",
      "9. Additional notes.ipynb:    \"! echo \\\"1,2,3,4\\\" | cut -d',' -f2\"\r\n",
      "9. Additional notes.ipynb:    \"! cat traffic_feb_june/trafficData158324.csv | cut -d',' -f6,7 | head\"\r\n",
      "9. Additional notes.ipynb:    \"! cat traffic_feb_june/trafficData158324.csv | cut -d',' -f8 | sort | uniq | head\"\r\n",
      "9. Additional notes.ipynb:    \"! cat traffic_feb_june/trafficData158324.csv | cut -d',' -f8 | sort | uniq | wc -l\"\r\n",
      "9. Additional notes.ipynb:      \"    \\\"! cat traffic_feb_june/trafficData158324.csv | cut -d',' -f8 | sort | uniq | head\\\"\\r\\n\",\r\n",
      "9. Additional notes.ipynb:      \"    \\\"! cat traffic_feb_june/trafficData158324.csv | cut -d',' -f8 | sort | uniq | wc -l\\\"\\r\\n\",\r\n",
      "9. Additional notes.ipynb:    \"! cat $(ls traffic_feb_june/* | grep -e \\\".*\\\\.csv$\\\") | grep -e \\\"^OK\\\" | cut -d',' -f8 | sort | uniq | wc -l\"\r\n"
     ]
    }
   ],
   "source": [
    "# Также сам grep умеет искать рекурсивно в директории\n",
    "! grep -R -e 'cut\\ ' *.ipynb"
   ]
  },
  {
   "cell_type": "code",
   "execution_count": 203,
   "metadata": {},
   "outputs": [
    {
     "name": "stdout",
     "output_type": "stream",
     "text": [
      "1\n",
      "1\n",
      "2\n",
      "2\n",
      "3\n",
      "3\n",
      "4\n",
      "5\n",
      "5\n",
      "5\n",
      "5\n",
      "6\n",
      "6\n",
      "6\n",
      "7\n",
      "9\n"
     ]
    }
   ],
   "source": [
    "%%bash\n",
    "\n",
    "# sed - stream editor. Позволяет изменять входящий поток. У него есть ряд команд -\n",
    "# p = print, d = delete, s = substitude, \n",
    "\n",
    "cat example.txt | sort"
   ]
  },
  {
   "cell_type": "code",
   "execution_count": 226,
   "metadata": {},
   "outputs": [
    {
     "name": "stdout",
     "output_type": "stream",
     "text": [
      "2\n",
      "---\n",
      "2\n",
      "3\n",
      "5\n",
      "6\n",
      "7\n",
      "---\n",
      "2\n",
      "2\n",
      "3\n",
      "---\n",
      "3\n",
      "4\n",
      "5\n",
      "5\n",
      "5\n",
      "5\n",
      "6\n",
      "6\n",
      "6\n",
      "7\n",
      "9\n",
      "---\n",
      "5\n",
      "5\n",
      "5\n",
      "5\n",
      "---\n",
      "5\n",
      "5\n",
      "5\n",
      "5\n",
      "6\n",
      "6\n",
      "6\n",
      "7\n"
     ]
    }
   ],
   "source": [
    "%%bash\n",
    "\n",
    "cat example.txt | sort | sed -n '3'p  # третий элемент\n",
    "echo \"---\"\n",
    "cat example.txt | sort | sed -n '0~3'p  # Каждый третий начиная с нулевого\n",
    "echo \"---\"\n",
    "cat example.txt | sort | sed -n \"3,5\"p # C 3 по 5\n",
    "echo \"---\"\n",
    "cat example.txt | sort | sed -n \"6,$\"p # c 6 до конца файла\n",
    "echo '---'\n",
    "cat example.txt | sort | sed -n '/5/'p # вместо номера можно указывать regex. этот пример почти такой же как и grep\n",
    "echo '---'\n",
    "cat example.txt | sort | sed -n \"/5/,/7/\"p # можно комбинироватьк как и числа"
   ]
  },
  {
   "cell_type": "code",
   "execution_count": 227,
   "metadata": {},
   "outputs": [
    {
     "name": "stdout",
     "output_type": "stream",
     "text": [
      "1\n",
      "1\n",
      "2\n",
      "3\n",
      "3\n",
      "4\n",
      "5\n",
      "5\n",
      "5\n",
      "5\n",
      "6\n",
      "6\n",
      "6\n",
      "7\n",
      "9\n",
      "---\n",
      "1\n",
      "1\n",
      "2\n",
      "3\n",
      "4\n",
      "5\n",
      "5\n",
      "5\n",
      "6\n",
      "6\n",
      "9\n",
      "---\n",
      "1\n",
      "1\n",
      "3\n",
      "4\n",
      "5\n",
      "5\n",
      "5\n",
      "5\n",
      "6\n",
      "6\n",
      "6\n",
      "7\n",
      "9\n",
      "---\n",
      "1\n",
      "1\n",
      "2\n",
      "2\n",
      "3\n",
      "---\n",
      "1\n",
      "1\n",
      "2\n",
      "2\n",
      "3\n",
      "3\n",
      "4\n",
      "6\n",
      "6\n",
      "6\n",
      "7\n",
      "9\n",
      "---\n",
      "1\n",
      "1\n",
      "2\n",
      "2\n",
      "3\n",
      "3\n",
      "4\n",
      "9\n"
     ]
    }
   ],
   "source": [
    "%%bash\n",
    "# команда d - инвертированная от p - удаляет указанные, а значит печатает те, которые вне диапазона\n",
    "\n",
    "cat example.txt | sort | sed -e '3'd  # третий элемент\n",
    "echo \"---\"\n",
    "cat example.txt | sort | sed -e '0~3'd  # Каждый третий начиная с нулевого\n",
    "echo \"---\"\n",
    "cat example.txt | sort | sed -e \"3,5\"d # C 3 по 5\n",
    "echo \"---\"\n",
    "cat example.txt | sort | sed -e \"6,$\"d # c 6 до конца файла\n",
    "echo '---'\n",
    "cat example.txt | sort | sed -e '/5/'d # вместо номера можно указывать regex. этот пример почти такой же как и grep\n",
    "echo '---'\n",
    "cat example.txt | sort | sed -e \"/5/,/7/\"d # можно комбинироватьк как и числа"
   ]
  },
  {
   "cell_type": "code",
   "execution_count": 228,
   "metadata": {},
   "outputs": [
    {
     "name": "stdout",
     "output_type": "stream",
     "text": [
      "Writing script-example.sh\n"
     ]
    }
   ],
   "source": [
    "%%writefile script-example.sh\n",
    "\n",
    "cat example.txt | sort | sed -e '3'd  # третий элемент\n",
    "echo \"---\"\n",
    "cat example.txt | sort | sed -e '0~3'd  # Каждый третий начиная с нулевого\n",
    "echo \"---\"\n",
    "cat example.txt | sort | sed -e \"3,5\"d # C 3 по 5\n",
    "echo \"---\"\n",
    "cat example.txt | sort | sed -e \"6,$\"d # c 6 до конца файла\n",
    "echo '---'\n",
    "cat example.txt | sort | sed -e '/5/'d # вместо номера можно указывать regex. этот пример почти такой же как и grep\n",
    "echo '---'\n",
    "cat example.txt | sort | sed -e \"/5/,/7/\"d # можно комбинироватьк как и числа"
   ]
  },
  {
   "cell_type": "code",
   "execution_count": 237,
   "metadata": {},
   "outputs": [
    {
     "name": "stdout",
     "output_type": "stream",
     "text": [
      "\n",
      "cat example.txt | sort | uniq | sed -e '3'd  # третий элемент\n",
      "echo \"---\"\n",
      "cat example.txt | sort | uniq | sed -e '0~3'd  # Каждый третий начиная с нулевого\n",
      "echo \"---\"\n",
      "cat example.txt | sort | uniq | sed -e \"3,5\"d # C 3 по 5\n",
      "echo \"---\"\n",
      "cat example.txt | sort | uniq | sed -e \"6,$\"d # c 6 до конца файла\n",
      "echo '---'\n",
      "cat example.txt | sort | uniq | sed -e '/5/'d # вместо номера можно указывать regex. этот пример почти такой же как и grep\n",
      "echo '---'\n",
      "cat example.txt | sort | uniq | sed -e \"/5/,/7/\"d # можно комбинироватьк как и числа\n",
      "1\n",
      "2\n",
      "4\n",
      "5\n",
      "6\n",
      "7\n",
      "9\n",
      "---\n",
      "1\n",
      "2\n",
      "4\n",
      "5\n",
      "7\n",
      "9\n",
      "---\n",
      "1\n",
      "2\n",
      "6\n",
      "7\n",
      "9\n",
      "---\n",
      "1\n",
      "2\n",
      "3\n",
      "4\n",
      "5\n",
      "---\n",
      "1\n",
      "2\n",
      "3\n",
      "4\n",
      "6\n",
      "7\n",
      "9\n",
      "---\n",
      "1\n",
      "2\n",
      "3\n",
      "4\n",
      "9\n"
     ]
    }
   ],
   "source": [
    "%%bash\n",
    "\n",
    "# можно заменять regex на значение\n",
    "\n",
    "cat script-example.sh | sed -e \"s/sort/sort | uniq/\"\n",
    "cat script-example.sh | sed -e \"s/sort/sort | uniq/\" | bash"
   ]
  },
  {
   "cell_type": "code",
   "execution_count": 259,
   "metadata": {},
   "outputs": [
    {
     "name": "stdout",
     "output_type": "stream",
     "text": [
      "pupa\n",
      "lupa\n",
      "---\n",
      "Code = OK Report = 190000\n",
      "Code = OK Report = 190449\n",
      "Code = OK Report = 190898\n",
      "Code = OK Report = 191347\n",
      "Code = OK Report = 191796\n",
      "Code = OK Report = 192245\n",
      "Code = OK Report = 192694\n",
      "Code = OK Report = 193143\n",
      "Code = OK Report = 193592\n",
      "Code = OK Report = 194041\n",
      "---\n",
      "code,report\n",
      "OK,190000\n",
      "OK,190449\n",
      "OK,190898\n",
      "OK,191347\n",
      "OK,191796\n",
      "OK,192245\n",
      "OK,192694\n",
      "OK,193143\n",
      "OK,193592\n",
      "---\n",
      "190000  | This is line number 1\n",
      "190449  | This is line number 2\n",
      "190898  | This is line number 3\n",
      "191347  | This is line number 4\n",
      "191796  | This is line number 5\n",
      "192245  | This is line number 6\n",
      "192694  | This is line number 7\n",
      "193143  | This is line number 8\n",
      "193592  | This is line number 9\n",
      "194041  | This is line number 10\n",
      "---\n",
      "190000 2014-02-13T11:30:00\n",
      "190898 2014-02-13T11:40:00\n",
      "191796 2014-02-13T11:50:00\n",
      "192694 2014-02-13T12:00:00\n",
      "193592 2014-02-13T12:10:00\n",
      "194490 2014-02-13T12:20:00\n",
      "195388 2014-02-13T12:30:00\n",
      "196286 2014-02-13T12:40:00\n",
      "197184 2014-02-13T12:50:00\n",
      "198082 2014-02-13T13:00:00\n"
     ]
    }
   ],
   "source": [
    "%%bash\n",
    "\n",
    "# awk - самый серьезный инструмент для обработки данных. Он имеет свой отделный язык написания запросов\n",
    "echo pupa lupa | awk '{print $1}'\n",
    "echo pupa lupa | awk '{print $2}'\n",
    "\n",
    "echo '---'\n",
    "\n",
    "cat traffic_feb_june/trafficData158324.csv | awk -F, '{print \"Code = \" $1 \" Report = \" $8}' | head\n",
    "\n",
    "echo '---'\n",
    "\n",
    "cat traffic_feb_june/trafficData158324.csv | awk -F, 'BEGIN {print \"code,report\"} {print $1 \",\" $8}' | head\n",
    "\n",
    "echo '---'\n",
    "\n",
    "cat traffic_feb_june/trafficData158324.csv | awk -F, '{print $8, \" | This is line number \" FNR}' | head\n",
    "\n",
    "echo '---'\n",
    "\n",
    "cat traffic_feb_june/trafficData158324.csv | awk -F, '{if ($8 % 2 == 0) print $8, $6}' | head"
   ]
  },
  {
   "cell_type": "code",
   "execution_count": 261,
   "metadata": {},
   "outputs": [
    {
     "name": "stdout",
     "output_type": "stream",
     "text": [
      "Hit:1 http://archive.ubuntu.com/ubuntu bionic InRelease\n",
      "Hit:2 http://archive.ubuntu.com/ubuntu bionic-updates InRelease                \n",
      "Hit:3 http://archive.ubuntu.com/ubuntu bionic-backports InRelease              \n",
      "Hit:4 http://security.ubuntu.com/ubuntu bionic-security InRelease              \n",
      "Hit:5 https://packages.microsoft.com/repos/azure-cli bionic InRelease   \n",
      "Reading package lists... Done                      \n",
      "Reading package lists... Done\n",
      "Building dependency tree       \n",
      "Reading state information... Done\n",
      "The following additional packages will be installed:\n",
      "  libjq1 libonig4\n",
      "The following NEW packages will be installed:\n",
      "  jq libjq1 libonig4\n",
      "0 upgraded, 3 newly installed, 0 to remove and 77 not upgraded.\n",
      "Need to get 276 kB of archives.\n",
      "After this operation, 930 kB of additional disk space will be used.\n",
      "Get:1 http://archive.ubuntu.com/ubuntu bionic/universe amd64 libonig4 amd64 6.7.0-1 [119 kB]\n",
      "Get:2 http://archive.ubuntu.com/ubuntu bionic/universe amd64 libjq1 amd64 1.5+dfsg-2 [111 kB]\n",
      "Get:3 http://archive.ubuntu.com/ubuntu bionic/universe amd64 jq amd64 1.5+dfsg-2 [45.6 kB]\n",
      "Fetched 276 kB in 0s (611 kB/s)\n",
      "debconf: delaying package configuration, since apt-utils is not installed\n",
      "Selecting previously unselected package libonig4:amd64.\n",
      "(Reading database ... 156334 files and directories currently installed.)\n",
      "Preparing to unpack .../libonig4_6.7.0-1_amd64.deb ...\n",
      "Unpacking libonig4:amd64 (6.7.0-1) ...\n",
      "Selecting previously unselected package libjq1:amd64.\n",
      "Preparing to unpack .../libjq1_1.5+dfsg-2_amd64.deb ...\n",
      "Unpacking libjq1:amd64 (1.5+dfsg-2) ...\n",
      "Selecting previously unselected package jq.\n",
      "Preparing to unpack .../jq_1.5+dfsg-2_amd64.deb ...\n",
      "Unpacking jq (1.5+dfsg-2) ...\n",
      "Setting up libonig4:amd64 (6.7.0-1) ...\n",
      "Setting up libjq1:amd64 (1.5+dfsg-2) ...\n",
      "Processing triggers for libc-bin (2.27-3ubuntu1) ...\n",
      "Setting up jq (1.5+dfsg-2) ...\n"
     ]
    }
   ],
   "source": [
    "! apt-get update -y && apt-get install jq -y"
   ]
  },
  {
   "cell_type": "code",
   "execution_count": 266,
   "metadata": {},
   "outputs": [
    {
     "name": "stdout",
     "output_type": "stream",
     "text": [
      "--2020-03-10 23:17:08--  https://raw.githubusercontent.com/prust/wikipedia-movie-data/master/movies.json\n",
      "Resolving raw.githubusercontent.com (raw.githubusercontent.com)... 151.101.0.133, 151.101.64.133, 151.101.128.133, ...\n",
      "Connecting to raw.githubusercontent.com (raw.githubusercontent.com)|151.101.0.133|:443... connected.\n",
      "HTTP request sent, awaiting response... 200 OK\n",
      "Length: 3386161 (3.2M) [text/plain]\n",
      "Saving to: ‘movies.json’\n",
      "\n",
      "movies.json         100%[===================>]   3.23M  8.61MB/s    in 0.4s    \n",
      "\n",
      "2020-03-10 23:17:10 (8.61 MB/s) - ‘movies.json’ saved [3386161/3386161]\n",
      "\n"
     ]
    }
   ],
   "source": [
    "! wget https://raw.githubusercontent.com/prust/wikipedia-movie-data/master/movies.json"
   ]
  },
  {
   "cell_type": "code",
   "execution_count": 281,
   "metadata": {
    "scrolled": true
   },
   "outputs": [
    {
     "name": "stdout",
     "output_type": "stream",
     "text": [
      "[{\"title\":\"After Dark in Central Park\",\"year\":1900,\"cast\":[],\"genres\":[]},{\"title\":\"Boarding School Girls' Pajama Parade\",\"year\":1900,\"cast\":[],\"genres\":[]},{\"title\":\"Buffalo Bill's Wild West Parad\",\"year\":1900,\"cast\":[],\"genres\":[]},{\"title\":\"Caught\",\"year\":1900,\"cast\":[],\"genres\":[]},{\"title\":\"Clowns Spinning Hats\",\"year\":1900,\"cast\":[],\"genres\":[]},{\"title\":\"Capture of Boer Battery by British\",\"year\":1900,\"cast\":[],\"genres\":[\"Short\",\"Documentary\"]},{\"title\":\"The Enchanted Drawing\",\"year\":1900,\"cast\":[],\"genres\":[]},{\"title\":\"Feeding Sea Lions\",\"year\":1900,\"cast\":[\"Paul Boyton\"],\"genres\":[]},{\"title\":\"How to Make a Fat Wife Out of Two Lean Ones\",\"year\":1900,\"cast\":[],\"genres\":[\"Comedy\"]},{\"title\":\"New Life Rescue\",\"year\":1900,\"cast\":[],\"genres\":[]},{\"title\":\"New Morning Bath\",\"year\":1900,\"cast\":[],\"genres\":[]},{\"title\":\"Searching Ruins on Broadway, Galveston, for Dead Bodies\",\"year\":1900,\"cast\":[],\"genres\":[]},{\"title\":\"The Tribulations of an Amateur Photographer\",\"year\":1900,\"cast\":---\n",
      "[\n",
      "  {\n",
      "    \"title\": \"After Dark in Central Park\",\n",
      "    \"year\": 1900,\n",
      "    \"cast\": [],\n",
      "    \"genres\": []\n",
      "  },\n",
      "  {\n",
      "    \"title\": \"Boarding School Girls' Pajama Parade\",\n",
      "    \"year\": 1900,\n",
      "    \"cast\": [],\n",
      "    \"genres\": []\n",
      "  },\n",
      "  {\n",
      "    \"title\": \"Buffalo Bill's Wild West Parad\",\n",
      "    \"year\": 1900,\n",
      "    \"cast\": [],\n",
      "    \"genres\": []\n",
      "  },\n",
      "  {\n",
      "    \"title\": \"Caught\",\n",
      "    \"year\": 1900,\n",
      "    \"cast\": [],\n",
      "    \"genres\": []\n",
      "  },\n",
      "  {\n",
      "    \"title\": \"Clowns Spinning Hats\",\n",
      "    \"year\": 1900,\n",
      "    \"cast\": [],\n",
      "    \"genres\": []\n",
      "---\n",
      "[\n",
      "  {\n",
      "    \"title\": \"After Dark in Central Park\",\n",
      "    \"year\": 1900,\n",
      "    \"cast\": [],\n",
      "    \"genres\": []\n",
      "  },\n",
      "  {\n",
      "    \"title\": \"Boarding School Girls' Pajama Parade\",\n",
      "    \"year\": 1900,\n",
      "    \"cast\": [],\n",
      "    \"genres\": []\n",
      "  }\n",
      "]\n",
      "---\n",
      "\"After Dark in Central Park\"\n",
      "\"Boarding School Girls' Pajama Parade\"\n",
      "\"Buffalo Bill's Wild West Parad\"\n",
      "\"Caught\"\n",
      "\"Clowns Spinning Hats\"\n",
      "\"Capture of Boer Battery by British\"\n",
      "\"The Enchanted Drawing\"\n",
      "\"Feeding Sea Lions\"\n",
      "\"How to Make a Fat Wife Out of Two Lean Ones\"\n",
      "\"New Life Rescue\"\n",
      "---\n",
      "[\n",
      "  0,\n",
      "  0,\n",
      "  0,\n",
      "  0,\n",
      "  0,\n",
      "  0,\n",
      "  0,\n",
      "  0,\n",
      "  0,\n"
     ]
    }
   ],
   "source": [
    "%%bash\n",
    "\n",
    "# По умолчанию jq не входит в набор утилит, но при этом это очень полезная тулза\n",
    "\n",
    "cat movies.json | head -c 1000\n",
    "\n",
    "echo '---'\n",
    "\n",
    "cat movies.json | jq '.' | head -n 30\n",
    "echo '---'\n",
    "\n",
    "cat movies.json | jq '.[0:2]'\n",
    "echo '---'\n",
    "\n",
    "cat movies.json | jq '.[] | .title' | head\n",
    "echo '---'\n",
    "cat movies.json | jq 'map(.year-1900)' | head"
   ]
  },
  {
   "cell_type": "code",
   "execution_count": 295,
   "metadata": {},
   "outputs": [
    {
     "name": "stdout",
     "output_type": "stream",
     "text": [
      "109\n",
      "10th\n",
      "10th\n",
      "11\n",
      "11\n",
      "11\n",
      "1-1000\n",
      "110th\n",
      "11-11-11\n",
      "11:14\n",
      "1119\n",
      "113\n",
      "1138\n",
      "11/9\n",
      "11th\n",
      "12\n",
      "12\n",
      "12\n",
      "12\n",
      "12\n",
      "12\n",
      "------\n",
      "Royale 3\n",
      "Remains 3\n",
      "Planets 1\n",
      "Juliet, 1\n",
      "Ticklish 1\n",
      "Piper's 1\n",
      "Notebook 1\n",
      "and... 1\n",
      "Willie 7\n",
      "Troubles 6\n"
     ]
    }
   ],
   "source": [
    "%%bash\n",
    "\n",
    "cat movies.json | jq '.[] | .title' | sed -e 's/\\\"//g' | sed -e 's/\\s/\\n/g' | sort | sed -n '200,220p'\n",
    "echo '------'\n",
    "cat movies.json | jq '.[] | .title' | sed -e 's/\\\"//g' | sed -e 's/\\s/\\n/g' | sort | awk '{words[$1] += 1} END {for (word in words) {print word, words[word]}}' | head"
   ]
  },
  {
   "cell_type": "markdown",
   "metadata": {},
   "source": [
    "__Задача__ (все задачи опциональные - за дополнительный балл)\n",
    "* Для датасета из 5 семинара про стриминговые алгоритмы\n",
    "  * Подсчитать среднее для 7 колонки (при нумерации с 1) (количество машин) на bash\n",
    "  * Подсчитать медиану для 7 колонки (при нумерации с 1) (количество машин) на bash\n",
    "  * Сравнить время работы алгоритма на bash и алгоритмов на python из 5 семинара\n",
    "* Для датасета из 1 семинара \n",
    "  * Подсчитать топ 20 самых встречаемых слов на bash\n",
    "  * Сравнить время работы алгоритма на bash и алгоритма на python из 1 семинара"
   ]
  },
  {
   "cell_type": "code",
   "execution_count": null,
   "metadata": {},
   "outputs": [],
   "source": []
  },
  {
   "cell_type": "code",
   "execution_count": null,
   "metadata": {},
   "outputs": [],
   "source": []
  }
 ],
 "metadata": {
  "kernelspec": {
   "display_name": "Python 3",
   "language": "python",
   "name": "python3"
  },
  "language_info": {
   "codemirror_mode": {
    "name": "ipython",
    "version": 3
   },
   "file_extension": ".py",
   "mimetype": "text/x-python",
   "name": "python",
   "nbconvert_exporter": "python",
   "pygments_lexer": "ipython3",
   "version": "3.7.3"
  }
 },
 "nbformat": 4,
 "nbformat_minor": 4
}
