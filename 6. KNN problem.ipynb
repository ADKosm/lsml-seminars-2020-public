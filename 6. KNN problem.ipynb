{
 "cells": [
  {
   "cell_type": "markdown",
   "metadata": {},
   "source": [
    "На этом семинаре мы посмотрим на то, что можно сделать с большими данными, когда у нас есть большие вычислительные мощности, но не в виде кластера, а в виде одной большой машины.\n",
    "\n",
    "На Azure нужно будет поднять самую жирную тачку, что вы сможете там найти - сегодня ни в чем себе не отказываем и будем ворочать алгоритмы сразу в памяти.\n",
    "\n",
    "```\n",
    "# get link from this site - https://www.anaconda.com/distribution/\n",
    "\n",
    "wget https://repo.anaconda.com/archive/Anaconda3-2019.10-Linux-x86_64.sh -O install-conda.sh\n",
    "chmod +x install-conda.sh\n",
    "./install-conda.sh\n",
    "\n",
    "# add conda to PATH\n",
    "\n",
    "eval \"$(/sshuser/anaconda3/bin/conda shell.bash hook)\" \n",
    "conda init\n",
    "\n",
    "jupyter notebook --ip=0.0.0.0 --NotebookApp.token=\n",
    "```"
   ]
  },
  {
   "cell_type": "markdown",
   "metadata": {},
   "source": [
    "## Поиск ближайших\n",
    "\n",
    "Сформулируем задачу следующим образом: имеется большой набор объектов, описываемых векторами R^n; требуется построить такую структуру данных, которая по вектору R^n (объекту, называемому запросом) вернет K ближайших (по некоторой метрике, i.e. L2, cosine) объектов из набора.\n",
    "\n",
    "Таким образом, имеем исходную параметризацию: размер набора, размер пространства представления (n), размер ответа (K), метрика.\n",
    "\n",
    "Задачу можно решать как точно, так и приблизительно, разменивая точность на скорость."
   ]
  },
  {
   "cell_type": "markdown",
   "metadata": {},
   "source": [
    "В качестве данных используем mnist 8m."
   ]
  },
  {
   "cell_type": "code",
   "execution_count": null,
   "metadata": {
    "scrolled": false
   },
   "outputs": [],
   "source": [
    "! wget https://www.csie.ntu.edu.tw/~cjlin/libsvmtools/datasets/multiclass/mnist8m.bz2\n",
    "! bzip2 -vd mnist8m.bz2"
   ]
  },
  {
   "cell_type": "code",
   "execution_count": 1,
   "metadata": {},
   "outputs": [],
   "source": [
    "%matplotlib inline\n",
    "\n",
    "import numpy as np\n",
    "import matplotlib.pyplot as plt\n",
    "import matplotlib.image as mpimg\n",
    "from sklearn.datasets import load_svmlight_file\n",
    "from sklearn.neighbors import BallTree"
   ]
  },
  {
   "cell_type": "markdown",
   "metadata": {},
   "source": [
    "Для семинара отрежем семпл, чтобы не ждать особенно долго."
   ]
  },
  {
   "cell_type": "code",
   "execution_count": 2,
   "metadata": {},
   "outputs": [],
   "source": [
    "! head -n 50000 mnist8m > mnist_sample"
   ]
  },
  {
   "cell_type": "code",
   "execution_count": 3,
   "metadata": {},
   "outputs": [],
   "source": [
    "X, y = load_svmlight_file('mnist_sample', n_features=784)"
   ]
  },
  {
   "cell_type": "code",
   "execution_count": 4,
   "metadata": {},
   "outputs": [],
   "source": [
    "X = X / 255  # отмасштабируем"
   ]
  },
  {
   "cell_type": "code",
   "execution_count": 5,
   "metadata": {},
   "outputs": [
    {
     "data": {
      "text/plain": [
       "<matplotlib.image.AxesImage at 0x7f9e971e3290>"
      ]
     },
     "execution_count": 5,
     "metadata": {},
     "output_type": "execute_result"
    },
    {
     "data": {
      "image/png": "[encoded data removed]",
      "text/plain": [
       "<Figure size 432x288 with 1 Axes>"
      ]
     },
     "metadata": {
      "needs_background": "light"
     },
     "output_type": "display_data"
    }
   ],
   "source": [
    "plt.imshow(X[0].reshape(28, 28).toarray())"
   ]
  },
  {
   "cell_type": "markdown",
   "metadata": {},
   "source": [
    "Итого, у нас целая куча картинок. Наша задача - по полученной картинке найти самые похожие на нее."
   ]
  },
  {
   "cell_type": "markdown",
   "metadata": {},
   "source": [
    "Каждая картинка в нашем случае - это просто вектор из R^784. Таким образом будем пытаться искать близкие между собой вектора по какой-то метрике. \n",
    "\n",
    "Note: искать в пространстве пикселей может быть не самой разумной идеей - можно получить гораздо более качественные результаты, если предобработать сырые данные (посчитать какие-то умные фичи по картинке, например), однако в конце остается задача - как по вектору из R^d искать близкие к нему. Именно эту задачу мы и попытаемся решить. Вопрос эмбединга исходных данных остается за рамками этого курса, поэтому для наших целей исходные данные вполне подойдут.\n"
   ]
  },
  {
   "cell_type": "markdown",
   "metadata": {},
   "source": [
    "# Ball Tree"
   ]
  },
  {
   "cell_type": "markdown",
   "metadata": {},
   "source": [
    "Одним из простых и понятных алгоритмов поиска ближайших соседей в метрическом пространстве является алгоритм Ball Tree.\n",
    "\n",
    "Идея буквально следующая - разделить все пространство объектов на подобласти, чтобы при поиске ответа необходимо было искать лишь в ограниценных подобластях, а не среди всех объектов.\n",
    "\n",
    "Простая версия алгоритма Ball Tree строит бинарное дерево, где каждый узел отвечает за свою сферу (гиперсферу), внутри которой находятся другие подсферы. В узлах дерева находятся уже исходные элементы."
   ]
  },
  {
   "cell_type": "markdown",
   "metadata": {},
   "source": [
    "Схема построения следующая:\n",
    "* В корне помещаем одну гиперсферу, которая вмещает в себя вообще все элементы\n",
    "* После этого на каждом уровне будем разделять элементы внутри гиперсферы на две группы и накрывать их гиперсферами поменьше\n",
    "  * Самый простой алгоритм разделения ищет точку X - самая дальняя точка от центра текущей сферы, точку Y - самую дальнюю точку от X и далее делит на две группы в зависимости от того к какой точке ближе - X или Y\n",
    "  * Более продвинутая версия алгоритма считает главные компоненты и делит множество поровну вдоль оси первой главной компоненты - то есть вдоль оси с наибольшей дисперсией.\n",
    "* Критерии остановки могут быть разными - глубина дерева, количество оставшихся элементов и тд."
   ]
  },
  {
   "cell_type": "markdown",
   "metadata": {},
   "source": [
    "<img src=\"img/ball-tree-construct.png\" width=\"500\">\n",
    "\n",
    "На рисунке алгоритм определил A и B как самые удаленные точки и относительно них разбил на два подмножества и накрыл их сферами"
   ]
  },
  {
   "cell_type": "markdown",
   "metadata": {},
   "source": [
    "<img src=\"http://stevehanov.ca/blog/balltree.png\">"
   ]
  },
  {
   "cell_type": "markdown",
   "metadata": {},
   "source": [
    "Поиск точки близкой по радиусу практически тривиален:\n",
    "* Нам дается точка `x` и радиус `r`. Мы смотрим на гиперсферу `s`. Если `radius(s) + r > |center(s) - x|`, то это означает, что сфера поиска и наша сфера в дереве не пересекаются, а значит в этой сфере нет смысла искать соседей. Если же `radius(s) + r <= |center(s) - x|`, то сферы пересекаются, значит там могут быть соседи. \n",
    "* Используя этот критерий, спускаемся по дереву вниз - когда добираемся до листов просто проверяем все элементы в этом листе на близость к `x`. \n",
    "* Возвращаем все те, которые были близко. "
   ]
  },
  {
   "cell_type": "markdown",
   "metadata": {},
   "source": [
    "<img src=\"img/ball-tree-search.png\" width=\"1000\">"
   ]
  },
  {
   "cell_type": "markdown",
   "metadata": {},
   "source": [
    "Итого, дерево позволяет относительно быстро искать соседей (в смысле L2 меры) для заданного радиуса.\n",
    "\n",
    "Более подробно о структуре данных можно почитать здесь - https://www.researchgate.net/publication/283471105_Ball-tree_Efficient_spatial_indexing_for_constrained_nearest-neighbor_search_in_metric_spaces \n",
    "\n",
    "Реализовывать самостоятельно мы его не будем - просто воспользуемся реализацией из sklearn."
   ]
  },
  {
   "cell_type": "code",
   "execution_count": 7,
   "metadata": {},
   "outputs": [
    {
     "name": "stdout",
     "output_type": "stream",
     "text": [
      "CPU times: user 3 µs, sys: 0 ns, total: 3 µs\n",
      "Wall time: 6.2 µs\n"
     ]
    }
   ],
   "source": [
    "%time\n",
    "tree = BallTree(X.toarray())"
   ]
  },
  {
   "cell_type": "code",
   "execution_count": 23,
   "metadata": {},
   "outputs": [],
   "source": [
    "def find_nn_ball_tree(index):\n",
    "    plt.figure()\n",
    "    plt.imshow(X[index].reshape(28, 28).toarray())\n",
    "    \n",
    "    result = tree.query_radius(np.array(X[index].toarray()), r=7)\n",
    "    print(\"Neighbours count: \", len(result[0]))\n",
    "    for nn_index in result[0][:5]:\n",
    "        plt.figure()\n",
    "        plt.imshow(X[nn_index].reshape(28, 28).toarray())"
   ]
  },
  {
   "cell_type": "code",
   "execution_count": 24,
   "metadata": {},
   "outputs": [
    {
     "name": "stdout",
     "output_type": "stream",
     "text": [
      "Neighbours count:  48\n"
     ]
    },
    {
     "data": {
      "image/png": "[encoded data removed]",
      "text/plain": [
       "<Figure size 432x288 with 1 Axes>"
      ]
     },
     "metadata": {
      "needs_background": "light"
     },
     "output_type": "display_data"
    },
    {
     "data": {
      "image/png": "[encoded data removed]",
      "text/plain": [
       "<Figure size 432x288 with 1 Axes>"
      ]
     },
     "metadata": {
      "needs_background": "light"
     },
     "output_type": "display_data"
    },
    {
     "data": {
      "image/png": "[encoded data removed]",
      "text/plain": [
       "<Figure size 432x288 with 1 Axes>"
      ]
     },
     "metadata": {
      "needs_background": "light"
     },
     "output_type": "display_data"
    },
    {
     "data": {
      "image/png": "[encoded data removed]",
      "text/plain": [
       "<Figure size 432x288 with 1 Axes>"
      ]
     },
     "metadata": {
      "needs_background": "light"
     },
     "output_type": "display_data"
    },
    {
     "data": {
      "image/png": "[encoded data removed]",
      "text/plain": [
       "<Figure size 432x288 with 1 Axes>"
      ]
     },
     "metadata": {
      "needs_background": "light"
     },
     "output_type": "display_data"
    },
    {
     "data": {
      "image/png": "[encoded data removed]",
      "text/plain": [
       "<Figure size 432x288 with 1 Axes>"
      ]
     },
     "metadata": {
      "needs_background": "light"
     },
     "output_type": "display_data"
    }
   ],
   "source": [
    "find_nn_ball_tree(0)"
   ]
  },
  {
   "cell_type": "code",
   "execution_count": 25,
   "metadata": {},
   "outputs": [
    {
     "name": "stdout",
     "output_type": "stream",
     "text": [
      "Neighbours count:  313\n"
     ]
    },
    {
     "data": {
      "image/png": "[encoded data removed]",
      "text/plain": [
       "<Figure size 432x288 with 1 Axes>"
      ]
     },
     "metadata": {
      "needs_background": "light"
     },
     "output_type": "display_data"
    },
    {
     "data": {
      "image/png": "[encoded data removed]",
      "text/plain": [
       "<Figure size 432x288 with 1 Axes>"
      ]
     },
     "metadata": {
      "needs_background": "light"
     },
     "output_type": "display_data"
    },
    {
     "data": {
      "image/png": "[encoded data removed]",
      "text/plain": [
       "<Figure size 432x288 with 1 Axes>"
      ]
     },
     "metadata": {
      "needs_background": "light"
     },
     "output_type": "display_data"
    },
    {
     "data": {
      "image/png": "[encoded data removed]",
      "text/plain": [
       "<Figure size 432x288 with 1 Axes>"
      ]
     },
     "metadata": {
      "needs_background": "light"
     },
     "output_type": "display_data"
    },
    {
     "data": {
      "image/png": "[encoded data removed]",
      "text/plain": [
       "<Figure size 432x288 with 1 Axes>"
      ]
     },
     "metadata": {
      "needs_background": "light"
     },
     "output_type": "display_data"
    },
    {
     "data": {
      "image/png": "[encoded data removed]",
      "text/plain": [
       "<Figure size 432x288 with 1 Axes>"
      ]
     },
     "metadata": {
      "needs_background": "light"
     },
     "output_type": "display_data"
    }
   ],
   "source": [
    "find_nn_ball_tree(1000)"
   ]
  },
  {
   "cell_type": "code",
   "execution_count": 72,
   "metadata": {},
   "outputs": [
    {
     "name": "stdout",
     "output_type": "stream",
     "text": [
      "Neighbours count:  11829\n"
     ]
    },
    {
     "data": {
      "image/png": "[encoded data removed]",
      "text/plain": [
       "<Figure size 432x288 with 1 Axes>"
      ]
     },
     "metadata": {
      "needs_background": "light"
     },
     "output_type": "display_data"
    },
    {
     "data": {
      "image/png": "[encoded data removed]",
      "text/plain": [
       "<Figure size 432x288 with 1 Axes>"
      ]
     },
     "metadata": {
      "needs_background": "light"
     },
     "output_type": "display_data"
    },
    {
     "data": {
      "image/png": "[encoded data removed]",
      "text/plain": [
       "<Figure size 432x288 with 1 Axes>"
      ]
     },
     "metadata": {
      "needs_background": "light"
     },
     "output_type": "display_data"
    },
    {
     "data": {
      "image/png": "[encoded data removed]",
      "text/plain": [
       "<Figure size 432x288 with 1 Axes>"
      ]
     },
     "metadata": {
      "needs_background": "light"
     },
     "output_type": "display_data"
    },
    {
     "data": {
      "image/png": "[encoded data removed]",
      "text/plain": [
       "<Figure size 432x288 with 1 Axes>"
      ]
     },
     "metadata": {
      "needs_background": "light"
     },
     "output_type": "display_data"
    },
    {
     "data": {
      "image/png": "[encoded data removed]",
      "text/plain": [
       "<Figure size 432x288 with 1 Axes>"
      ]
     },
     "metadata": {
      "needs_background": "light"
     },
     "output_type": "display_data"
    }
   ],
   "source": [
    "find_nn_ball_tree(3000)"
   ]
  },
  {
   "cell_type": "markdown",
   "metadata": {},
   "source": [
    "Что ж, кажется, что поиск с радиусом 7 дает вполне осмысленные результаты даже на сырых пикселях!\n",
    "\n",
    "Однако даже на таком количестве данных такой алгоритм начинает проседать по производительности (попробуйте построить ball tree на всех 8 миллионах). Однако алгоритм всегда выдает корректный (честный) ответ.\n",
    "\n",
    "Попробуем пойти другим путем и разменять точность ответа на производительность."
   ]
  },
  {
   "cell_type": "markdown",
   "metadata": {},
   "source": [
    "# LSH - Locality-sensitive hashing"
   ]
  },
  {
   "cell_type": "markdown",
   "metadata": {},
   "source": [
    "Интуиция из классических алгоритмов подсказывает нам, что для того чтобы искать очень быстро нужно строить хеш-таблицу. \n",
    "\n",
    "Именно этим мы и попытаемся заняться. В идеале мы бы хотели построить хеш с таким свойством, что у близких элементов он бы совпадал. Тогда если мы сложим их в хеш-таблицу, то по одному ключу мы сразу вычислим всех соседей. \n",
    "\n",
    "Для того чтобы построить такой хеш, посмотрим немного на R^2."
   ]
  },
  {
   "cell_type": "markdown",
   "metadata": {},
   "source": [
    "<img src=\"img/lsh-1.png\">"
   ]
  },
  {
   "cell_type": "markdown",
   "metadata": {},
   "source": [
    "На картинке у нас есть w_1 - базисный вектор (1, 0) и 6 векторов для примера.\n",
    "\n",
    "Несложный факт из линейной алгебры: скалярное произведение <x, y> в общем случае - это произведение длины вектора x на длину проекции y на вектор x.\n",
    "\n",
    "<img width=\"300\" src=\"https://upload.wikimedia.org/wikipedia/commons/thumb/2/25/Scalar-product-dot-product.svg/1280px-Scalar-product-dot-product.svg.png\">\n",
    "\n",
    "В случае с базисным вектором w_1 ситуация еще проще - это просто длина проекции на ось Х.\n",
    "\n",
    "Используя это знание попробуем сконструировать хеш следующего вида\n",
    "\n",
    "`h(x) = ⌊<x, w_1>⌋` (округляем вниз).\n",
    "\n",
    "Можно заметить, что все элементы, у которых координата x была в пределах [0, 1] будут иметь один и тот же хеш = 0. Все элементы, у которых x координата в [1, 2] получают одинаковый хеш = 1 и так далее. Другими словами все множество разбивается на такие группы (бакеты) в виде полос (на рисунке показаны две полосы - синяя и серая).\n",
    "\n",
    "Уже в такой простой постановке хеш может быть полезен. Близкие между собой элементы x_1 и x_2 имеют один и тот же хеш, также как и элементы x_5, x_4."
   ]
  },
  {
   "cell_type": "markdown",
   "metadata": {},
   "source": [
    "Однако на картинке сразу видно несколько проблем:\n",
    "* x_6 находится далеко от x_1, однако имеет с ним такой же хеш.\n",
    "* x_3 находится близко от x_2, однако они имеют различный хеш.\n",
    "\n",
    "Давайте их решим. \n",
    "\n",
    "Первую проблему можно решить достаточно несложным образом - добавим второй базисный вектор w_2 и под хешом будем уже понимать пару чисел: `h(x) = (⌊<x, w_1>⌋, ⌊<x, w_2>⌋)`"
   ]
  },
  {
   "cell_type": "markdown",
   "metadata": {},
   "source": [
    "<img src=\"img/lsh-2.png\">"
   ]
  },
  {
   "cell_type": "markdown",
   "metadata": {},
   "source": [
    "Видно, что теперь мы поделили пространство уже не на полосы, а на квадраты, которые задают нам базисные вектора.\n",
    "\n",
    "Теперь x_1 и x_2 все еще имеют одинаковый хеш = (0, 0) (так же как и x_5 и x_4 с хешом (1, -1)), а вот x_1 и x_6 больше нет - h(x_1) = (0, 0), h(x_6) = (0, 2).\n",
    "\n",
    "Чтобы решить вторую проблему, мы можем немного подвигать сетку, которая у нас получилась, таким образом, чтобы в подвинутой сетке x_2 и x_3 все таки попали в одну клетку. Для этого нужно завести еще хеш.\n",
    "\n",
    "`h_2(x) = (⌊<x, w_1> + 0.5⌋, ⌊<x, w_2>⌋)`"
   ]
  },
  {
   "cell_type": "markdown",
   "metadata": {},
   "source": [
    "<img src=\"img/lsh-3.png\">"
   ]
  },
  {
   "cell_type": "markdown",
   "metadata": {},
   "source": [
    "Отлично! Видно, что теперь x_2 и x_3 будут иметь одинаковый хеш. Интересно отметить, что после сдвига x_5 и x_4 имеют различных хеш.\n",
    "\n",
    "Таким образом для поиска всех соседей потребуется искать соседей по двум хешам - h и h_2.\n",
    "\n",
    "Необходимо также заметить, что мы сдвинули сетку только по оси x. По оси Y у нас присутствует та же проблема, которую можно решить таким же способов. Легко понять, что для размерности 2, нам потребуется 4 хеша.\n",
    "\n",
    "* `h_1 = (⌊<x, w_1>⌋, ⌊<x, w_2>⌋)`\n",
    "* `h_2 = (⌊<x, w_1> + 0.5⌋, ⌊<x, w_2>⌋)`\n",
    "* `h_3 = (⌊<x, w_1>⌋, ⌊<x, w_2> + 0.5⌋)`\n",
    "* `h_4 = (⌊<x, w_1> + 0.5⌋, ⌊<x, w_2> + 0.5⌋)`\n",
    "\n",
    "Отлично! Построив 4 таблицы мы можем за константу находить элементы, которые находятся друг от друга на расстоянии меньше 1.\n",
    "\n",
    "Что делать, если хотим искать с другим радиусом r?\n",
    "\n",
    "Для этого на самом деле достаточно просто увеличить сетку в r раз - или, что тоже самое, сжать все вектора в r раз. Единственное - необходимо быть аккуратным и сдвигать теперь не на 0.5 а на половину радиуса.\n",
    "\n",
    "Итого, для радиуса r:\n",
    "\n",
    "* `h_1 = (⌊<x, w_1> / r⌋, ⌊<x, w_2> / r⌋)`\n",
    "* `h_2 = (⌊(<x, w_1> + 0.5 * r) / r⌋, ⌊<x, w_2> / r⌋)`\n",
    "* `h_3 = (⌊<x, w_1> / r⌋, ⌊(<x, w_2> + 0.5 * r) / r⌋)`\n",
    "* `h_4 = (⌊(<x, w_1> + 0.5 * r) / r⌋, ⌊(<x, w_2> + 0.5 * r) / r⌋)`"
   ]
  },
  {
   "cell_type": "markdown",
   "metadata": {},
   "source": [
    "Кажется, что критических проблем более не наблюдается. Для R^2 алгоритм будет выглядеть так\n",
    "\n",
    "* Берем 4 хеша и строим по ним хеш-таблицы для всех элементов\n",
    "* Когда к нам приходит запрос считаем все 4 хеша и ищем во всех таблицах элементы.\n",
    "* Дополнительно нужно выкинуть элементы, которые дальше от нашего элемента чем на r. Такое может случиться, так как внутри квадрата элементы могут находится на расстоянии sqrt(2) * r. \n",
    "\n",
    "Готово, мы нашли всех соседей, причем наш ответ честный. \n",
    "\n",
    "Однако, что произойдет, когда нам потребуется решить эту задачу в R^n, где n - большое.\n",
    "\n",
    "Если следовать описанной схеме, то нам потребуется взять 2^n хешей, внутри которых будет n элементов. Итого `2^n * n` - это очень много и использовать такую схему as-is крайне непрактично. Эту проблему нам помогут обойти вероятностные трюки.\n",
    "\n",
    "Предлагается сделать буквально следующее - накидать случайных сеток на пространство таким образом, чтобы вероятность успеха была хорошей. Итого для R^n:\n",
    "\n",
    "* `h_1 =(⌊(<x, w_11> + b_11) / r⌋, ⌊(<x, w_12> + b_12) / r⌋, ..., ⌊(<x, w_1k> + b_1k) / r⌋ )`\n",
    "* `h_2 =(⌊(<x, w_21> + b_21) / r⌋, ⌊(<x, w_22> + b_22) / r⌋, ..., ⌊(<x, w_2k> + b_2k) / r⌋ )`\n",
    "* `...`\n",
    "* `h_d =(⌊(<x, w_d1> + b_d1) / r⌋, ⌊(<x, w_d2> + b_d2) / r⌋, ..., ⌊(<x, w_dk> + b_dk) / r⌋ )`\n",
    "\n",
    "`k` - размерность хеша, k < n. `d` - количество хешей, d < 2^n. При этом: `w_ij`- случайный вектор размера n, `b_ij` - случайное число.\n",
    "\n",
    "Осталось только выбрать параметры так, чтобы вероятность успеха была хорошей. Перед этим неплохо бы понять, что такое вероятность успеха. \n",
    "\n",
    "Легко видеть, что у нас могут возникать две проблемы\n",
    "* Мы можем найти элемент, который на самом деле далеко от нас\n",
    "* Мы можем не найти элемент, который на самом деле близко от нас\n",
    "\n",
    "Итого, у нас есть две вероятности - вероятность того, что найденный элемент близок к нам (`alpha_probability`) и вероятность того, что близкий элемент не был нами найден (`beta_probability`). \n",
    "\n",
    "Математика утверждает следующее:\n",
    "\n",
    "Для фиксированных вероятностей `alpha_probability`, `beta_probability`, радиуса `r`, выборки данных размера `M` из `R^n` и меры расстояния `L2`:\n",
    "* `w_ij` - случайный вектор из нормального распределения `N(0, 1)`\n",
    "* `b_ij` - случайное число из равномерного распределения `U[0, r]`\n",
    "* \n",
    "```\n",
    "rho = ln(1/alpha_probability) / ln(1/beta_probability)\n",
    "k = ceil( ln(M) / ln( 1/beta_probability ) )\n",
    "d = ceil( 2 * M^rho )\n",
    "```\n",
    "\n",
    "Более подробно с алгоритмом можно ознакомиться здесь - https://arxiv.org/pdf/1408.2927.pdf"
   ]
  },
  {
   "cell_type": "markdown",
   "metadata": {},
   "source": [
    "**Задача**\n",
    "* Реализовать LSH для L2. Посчитать его на датасете и сравнить результаты с Ball Tree. `find_nn` должна вернуть сами элементы. `find_and_print_nn` должна вести себя как `find_nn_ball_tree` - она ищет ближайшие, печатает количество найденных, рисует картинку, которую искали и пять соседей. (Запускать минимум на полумиллионе записей. При запуске на всех данных - доп балл.)"
   ]
  },
  {
   "cell_type": "code",
   "execution_count": 36,
   "metadata": {},
   "outputs": [],
   "source": [
    "# DO IT\n",
    "class L2LSH():\n",
    "    def __init__(self, data, radius, alpha_probability=0.9, beta_probability=0.1):\n",
    "        self._img = data[0]\n",
    "    \n",
    "    def find_nn(self, element, k=5):\n",
    "        return [self._img]\n",
    "    \n",
    "    def find_and_print_nn(self, element):\n",
    "        plt.figure()\n",
    "        plt.imshow(element.reshape(28, 28).toarray())\n",
    "\n",
    "        result = self.find_nn(element)\n",
    "        print(\"Neighbours count: \", len(result))\n",
    "        for nn in result[0][:5]:\n",
    "            plt.figure()\n",
    "            plt.imshow(nn.reshape(28, 28).toarray())"
   ]
  },
  {
   "cell_type": "code",
   "execution_count": 33,
   "metadata": {},
   "outputs": [
    {
     "name": "stdout",
     "output_type": "stream",
     "text": [
      "Neighbours count:  1\n"
     ]
    },
    {
     "data": {
      "image/png": "[encoded data removed]",
      "text/plain": [
       "<Figure size 432x288 with 1 Axes>"
      ]
     },
     "metadata": {
      "needs_background": "light"
     },
     "output_type": "display_data"
    },
    {
     "data": {
      "image/png": "[encoded data removed]",
      "text/plain": [
       "<Figure size 432x288 with 1 Axes>"
      ]
     },
     "metadata": {
      "needs_background": "light"
     },
     "output_type": "display_data"
    }
   ],
   "source": [
    "lsh = L2LSH(X, 7)\n",
    "lsh.find_and_print_nn(X[0])"
   ]
  },
  {
   "cell_type": "code",
   "execution_count": 34,
   "metadata": {},
   "outputs": [
    {
     "name": "stdout",
     "output_type": "stream",
     "text": [
      "Neighbours count:  1\n"
     ]
    },
    {
     "data": {
      "image/png": "[encoded data removed]",
      "text/plain": [
       "<Figure size 432x288 with 1 Axes>"
      ]
     },
     "metadata": {
      "needs_background": "light"
     },
     "output_type": "display_data"
    },
    {
     "data": {
      "image/png": "[encoded data removed]",
      "text/plain": [
       "<Figure size 432x288 with 1 Axes>"
      ]
     },
     "metadata": {
      "needs_background": "light"
     },
     "output_type": "display_data"
    }
   ],
   "source": [
    "lsh.find_and_print_nn(X[1000])"
   ]
  },
  {
   "cell_type": "code",
   "execution_count": 71,
   "metadata": {},
   "outputs": [
    {
     "name": "stdout",
     "output_type": "stream",
     "text": [
      "Neighbours count:  1\n"
     ]
    },
    {
     "data": {
      "image/png": "[encoded data removed]",
      "text/plain": [
       "<Figure size 432x288 with 1 Axes>"
      ]
     },
     "metadata": {
      "needs_background": "light"
     },
     "output_type": "display_data"
    },
    {
     "data": {
      "image/png": "[encoded data removed]",
      "text/plain": [
       "<Figure size 432x288 with 1 Axes>"
      ]
     },
     "metadata": {
      "needs_background": "light"
     },
     "output_type": "display_data"
    }
   ],
   "source": [
    "lsh.find_and_print_nn(X[3000])"
   ]
  },
  {
   "cell_type": "markdown",
   "metadata": {},
   "source": [
    "# LSH для cosine similarity"
   ]
  },
  {
   "cell_type": "markdown",
   "metadata": {},
   "source": [
    "L2 - не всегда удачная метрика близости. Часто вместо нее используют cosine метрику, которая учитывает только угол между векторами. Как искать вектора, близкие в смысле коллинеарности?\n",
    "\n",
    "Для этого мы можем провернуть похожий трюк с хешированием и построить LSH для cosine. Рассуждения будут очень похожими.\n",
    "\n",
    "Note: `cosine(x, y) = 1 - cos(x, y)`"
   ]
  },
  {
   "cell_type": "markdown",
   "metadata": {},
   "source": [
    "Элементарный хеш будет строится следующий образом\n",
    "\n",
    "`h(x) = sign(<x, w>)`\n",
    "\n",
    "Составной хеш будет строится аналогично \n",
    "\n",
    "`h_1(x) = (sign(<x, w_1>), sign(x, w_2))`\n",
    "\n",
    "Если в качестве w_1 и w_2 взять базисные вектора, то картина будет примерно следующей"
   ]
  },
  {
   "cell_type": "markdown",
   "metadata": {},
   "source": [
    "<img src=\"img/lsh-4.png\">"
   ]
  },
  {
   "cell_type": "markdown",
   "metadata": {},
   "source": [
    "Знак скалярного произведения показывает, \"смотрят ли\" вектора в одну сторону. Таким образом один вектор делит пространство на две части прямой (гиперплоскостью в общем случае), перпендикулярной этому вектору.\n",
    "\n",
    "Таким образом, если за `w_i` брать базисные вектора, то одинаковый хеш будут иметь те вектора, которые находятся в одной координатной четверти, что в соотносится с тем, что мы хотели. Такие вектора могут отличатся по L2 на любое расстояние, однако угол между ними не может быть больше 90 градусов (а значит и по косинусу они достаточно близки).\n",
    "\n",
    "Проблемы при таком построении примерно такие же, как и для L2 и решать их предлагается такими же способами: накидываем случайных сеток.\n",
    "\n",
    "* `h_1 =(sign(<x, w_11>), sign(<x, w_12> ), ..., sign(<x, w_1k>) )`\n",
    "* `h_1 =(sign(<x, w_21>), sign(<x, w_22> ), ..., sign(<x, w_2k>) )`\n",
    "* `...`\n",
    "* `h_d =(sign(<x, w_d1>), sign(<x, w_d2>), ..., sign(<x, w_dk>) )`\n",
    "\n",
    "`k` - размерность хеша, k < n. `d` - количество хешей, d < 2^n. При этом: `w_ij`- случайный вектор из `N(0, 1)` размера n.\n",
    "\n",
    "Более подробно с алгоритмом можно ознакомиться здесь - https://www.hpl.hp.com/techreports/2007/HPL-2007-192R1.pdf"
   ]
  },
  {
   "cell_type": "markdown",
   "metadata": {},
   "source": [
    "<img src=\"img/lsh-5.png\">"
   ]
  },
  {
   "cell_type": "markdown",
   "metadata": {},
   "source": [
    "**Задача**\n",
    "* Реализовать LSH для cosine. Посчитать его на датасете и сравнить результаты с стандартной реализацией поиска ближайших соседей в sklearn (смотри код ниже). `find_nn` должна вернуть сами элементы. `find_and_print_nn` должна вести себя как `find_nn_ball_tree` - она ищет ближайшие, печатает количество найденных, рисует картинку, которую искали и пять соседей. (Запускать минимум на полумиллионе записей. При запуске на всех данных - под балл.)\n",
    "* Параметры `k` и `d` предлагается получать при инициализации. Необходимо попробовать несколько возможных значений и посмотреть, как от этого зависит качество и скорость работы - посчитать precision и recall считая результаты ball tree истиной , время работы (сравним с ball tree) и субъективную оценку в свободной форме, насколько хорошо получилось."
   ]
  },
  {
   "cell_type": "code",
   "execution_count": 40,
   "metadata": {},
   "outputs": [],
   "source": [
    "from sklearn.neighbors import NearestNeighbors"
   ]
  },
  {
   "cell_type": "code",
   "execution_count": 41,
   "metadata": {},
   "outputs": [
    {
     "data": {
      "text/plain": [
       "NearestNeighbors(algorithm='auto', leaf_size=30, metric='cosine',\n",
       "                 metric_params=None, n_jobs=None, n_neighbors=5, p=2,\n",
       "                 radius=1.0)"
      ]
     },
     "execution_count": 41,
     "metadata": {},
     "output_type": "execute_result"
    }
   ],
   "source": [
    "neigh = NearestNeighbors(metric='cosine')\n",
    "neigh.fit(X.toarray())"
   ]
  },
  {
   "cell_type": "code",
   "execution_count": 61,
   "metadata": {},
   "outputs": [],
   "source": [
    "def find_nn_sklearn(index):\n",
    "    plt.figure()\n",
    "    plt.imshow(X[index].reshape(28, 28).toarray())\n",
    "    \n",
    "    result = neigh.radius_neighbors(np.array(X[index].toarray()), 0.3)\n",
    "    print(\"Neighbours count: \", len(result[1][0]))\n",
    "    for nn_index in result[1][0][:5]:\n",
    "        plt.figure()\n",
    "        plt.imshow(X[nn_index].reshape(28, 28).toarray())"
   ]
  },
  {
   "cell_type": "code",
   "execution_count": 62,
   "metadata": {},
   "outputs": [
    {
     "name": "stdout",
     "output_type": "stream",
     "text": [
      "Neighbours count:  204\n"
     ]
    },
    {
     "data": {
      "image/png": "[encoded data removed]",
      "text/plain": [
       "<Figure size 432x288 with 1 Axes>"
      ]
     },
     "metadata": {
      "needs_background": "light"
     },
     "output_type": "display_data"
    },
    {
     "data": {
      "image/png": "[encoded data removed]",
      "text/plain": [
       "<Figure size 432x288 with 1 Axes>"
      ]
     },
     "metadata": {
      "needs_background": "light"
     },
     "output_type": "display_data"
    },
    {
     "data": {
      "image/png": "[encoded data removed]",
      "text/plain": [
       "<Figure size 432x288 with 1 Axes>"
      ]
     },
     "metadata": {
      "needs_background": "light"
     },
     "output_type": "display_data"
    },
    {
     "data": {
      "image/png": "[encoded data removed]",
      "text/plain": [
       "<Figure size 432x288 with 1 Axes>"
      ]
     },
     "metadata": {
      "needs_background": "light"
     },
     "output_type": "display_data"
    },
    {
     "data": {
      "image/png": "[encoded data removed]",
      "text/plain": [
       "<Figure size 432x288 with 1 Axes>"
      ]
     },
     "metadata": {
      "needs_background": "light"
     },
     "output_type": "display_data"
    },
    {
     "data": {
      "image/png": "[encoded data removed]",
      "text/plain": [
       "<Figure size 432x288 with 1 Axes>"
      ]
     },
     "metadata": {
      "needs_background": "light"
     },
     "output_type": "display_data"
    }
   ],
   "source": [
    "find_nn_sklearn(0)"
   ]
  },
  {
   "cell_type": "code",
   "execution_count": 63,
   "metadata": {},
   "outputs": [
    {
     "name": "stdout",
     "output_type": "stream",
     "text": [
      "Neighbours count:  578\n"
     ]
    },
    {
     "data": {
      "image/png": "[encoded data removed]",
      "text/plain": [
       "<Figure size 432x288 with 1 Axes>"
      ]
     },
     "metadata": {
      "needs_background": "light"
     },
     "output_type": "display_data"
    },
    {
     "data": {
      "image/png": "[encoded data removed]",
      "text/plain": [
       "<Figure size 432x288 with 1 Axes>"
      ]
     },
     "metadata": {
      "needs_background": "light"
     },
     "output_type": "display_data"
    },
    {
     "data": {
      "image/png": "[encoded data removed]",
      "text/plain": [
       "<Figure size 432x288 with 1 Axes>"
      ]
     },
     "metadata": {
      "needs_background": "light"
     },
     "output_type": "display_data"
    },
    {
     "data": {
      "image/png": "[encoded data removed]",
      "text/plain": [
       "<Figure size 432x288 with 1 Axes>"
      ]
     },
     "metadata": {
      "needs_background": "light"
     },
     "output_type": "display_data"
    },
    {
     "data": {
      "image/png": "[encoded data removed]",
      "text/plain": [
       "<Figure size 432x288 with 1 Axes>"
      ]
     },
     "metadata": {
      "needs_background": "light"
     },
     "output_type": "display_data"
    },
    {
     "data": {
      "image/png": "[encoded data removed]",
      "text/plain": [
       "<Figure size 432x288 with 1 Axes>"
      ]
     },
     "metadata": {
      "needs_background": "light"
     },
     "output_type": "display_data"
    }
   ],
   "source": [
    "find_nn_sklearn(1000)"
   ]
  },
  {
   "cell_type": "code",
   "execution_count": 70,
   "metadata": {},
   "outputs": [
    {
     "name": "stdout",
     "output_type": "stream",
     "text": [
      "Neighbours count:  86\n"
     ]
    },
    {
     "data": {
      "image/png": "[encoded data removed]",
      "text/plain": [
       "<Figure size 432x288 with 1 Axes>"
      ]
     },
     "metadata": {
      "needs_background": "light"
     },
     "output_type": "display_data"
    },
    {
     "data": {
      "image/png": "[encoded data removed]",
      "text/plain": [
       "<Figure size 432x288 with 1 Axes>"
      ]
     },
     "metadata": {
      "needs_background": "light"
     },
     "output_type": "display_data"
    },
    {
     "data": {
      "image/png": "[encoded data removed]",
      "text/plain": [
       "<Figure size 432x288 with 1 Axes>"
      ]
     },
     "metadata": {
      "needs_background": "light"
     },
     "output_type": "display_data"
    },
    {
     "data": {
      "image/png": "[encoded data removed]",
      "text/plain": [
       "<Figure size 432x288 with 1 Axes>"
      ]
     },
     "metadata": {
      "needs_background": "light"
     },
     "output_type": "display_data"
    },
    {
     "data": {
      "image/png": "[encoded data removed]",
      "text/plain": [
       "<Figure size 432x288 with 1 Axes>"
      ]
     },
     "metadata": {
      "needs_background": "light"
     },
     "output_type": "display_data"
    },
    {
     "data": {
      "image/png": "[encoded data removed]",
      "text/plain": [
       "<Figure size 432x288 with 1 Axes>"
      ]
     },
     "metadata": {
      "needs_background": "light"
     },
     "output_type": "display_data"
    }
   ],
   "source": [
    "find_nn_sklearn(3000)"
   ]
  },
  {
   "cell_type": "code",
   "execution_count": 65,
   "metadata": {},
   "outputs": [],
   "source": [
    "class CosineLSH():\n",
    "    def __init__(self, data, radius, k=10, d=5):\n",
    "        self._img = data[0]\n",
    "    \n",
    "    def find_nn(self, element):\n",
    "        return [self._img]\n",
    "    \n",
    "    def find_and_print_nn(self, element):\n",
    "        plt.figure()\n",
    "        plt.imshow(element.reshape(28, 28).toarray())\n",
    "\n",
    "        result = self.find_nn(element)\n",
    "        print(\"Neighbours count: \", len(result))\n",
    "        for nn in result[0][:5]:\n",
    "            plt.figure()\n",
    "            plt.imshow(nn.reshape(28, 28).toarray())"
   ]
  },
  {
   "cell_type": "code",
   "execution_count": 66,
   "metadata": {},
   "outputs": [
    {
     "name": "stdout",
     "output_type": "stream",
     "text": [
      "Neighbours count:  1\n"
     ]
    },
    {
     "data": {
      "image/png": "[encoded data removed]",
      "text/plain": [
       "<Figure size 432x288 with 1 Axes>"
      ]
     },
     "metadata": {
      "needs_background": "light"
     },
     "output_type": "display_data"
    },
    {
     "data": {
      "image/png": "[encoded data removed]",
      "text/plain": [
       "<Figure size 432x288 with 1 Axes>"
      ]
     },
     "metadata": {
      "needs_background": "light"
     },
     "output_type": "display_data"
    }
   ],
   "source": [
    "lsh = CosineLSH(X, 7)\n",
    "lsh.find_and_print_nn(X[0])"
   ]
  },
  {
   "cell_type": "code",
   "execution_count": 67,
   "metadata": {},
   "outputs": [
    {
     "name": "stdout",
     "output_type": "stream",
     "text": [
      "Neighbours count:  1\n"
     ]
    },
    {
     "data": {
      "image/png": "[encoded data removed]",
      "text/plain": [
       "<Figure size 432x288 with 1 Axes>"
      ]
     },
     "metadata": {
      "needs_background": "light"
     },
     "output_type": "display_data"
    },
    {
     "data": {
      "image/png": "[encoded data removed]",
      "text/plain": [
       "<Figure size 432x288 with 1 Axes>"
      ]
     },
     "metadata": {
      "needs_background": "light"
     },
     "output_type": "display_data"
    }
   ],
   "source": [
    "lsh.find_and_print_nn(X[1000])"
   ]
  },
  {
   "cell_type": "code",
   "execution_count": 69,
   "metadata": {},
   "outputs": [
    {
     "name": "stdout",
     "output_type": "stream",
     "text": [
      "Neighbours count:  1\n"
     ]
    },
    {
     "data": {
      "image/png": "[encoded data removed]",
      "text/plain": [
       "<Figure size 432x288 with 1 Axes>"
      ]
     },
     "metadata": {
      "needs_background": "light"
     },
     "output_type": "display_data"
    },
    {
     "data": {
      "image/png": "[encoded data removed]",
      "text/plain": [
       "<Figure size 432x288 with 1 Axes>"
      ]
     },
     "metadata": {
      "needs_background": "light"
     },
     "output_type": "display_data"
    }
   ],
   "source": [
    "lsh.find_and_print_nn(X[3000])"
   ]
  },
  {
   "cell_type": "markdown",
   "metadata": {},
   "source": [
    "## K-Means\n",
    "\n",
    "Заметим, что в случае с LSH мы некоторым образом кластеризировали данные, а затем искали ближайших в полученных кластерах. На самом деле существует множество комбинаций алгоритмов кластеризации и построения индекса на результате для поиска ближайших.\n",
    "\n",
    "Сейчас поговорим про кластеризацию: самым популярным методом кластеризации для L2 метрики является k-means. Можно отметить, что он очень хорошо ложится на парадигму MapReduce.\n",
    "\n",
    "Алгоритм очень прост: мы задаём количество кластеров, на которое хотим поделить данные, а затем итеративно обновляем центры кластеров с целью минимизировать суммарное квадратичное отклонение точек кластеров от этих центров:\n",
    "\n",
    "![Optimization](https://wikimedia.org/api/rest_v1/media/math/render/svg/fb52bff2fc86ae00cbbf79ff2759bd3e90824bea)\n",
    "\n",
    "где k — число кластеров, S_i — полученные кластеры, i=1,2,...,k, а mu_i — центры масс всех векторов x из кластера S_i.\n",
    "\n",
    "Алгоритм может выполняться с ограничением на количество итераций или смещение центров.\n",
    "\n",
    "Простейшая реализация выглядит примерно так:\n",
    "1. Инициализируем центры некоторым образом\n",
    "2. Присваиваем каждому объекту кластер, центр которого является ближайшим\n",
    "3. Считаем для каждого кластера новый центр как средний вектор\n",
    "4. Проверяем условие остановки: число итераций или расстояние смещения центров, - заканчиваем, или переходим снова к пункту 2.\n"
   ]
  },
  {
   "cell_type": "markdown",
   "metadata": {},
   "source": [
    "Иллюстрация k-means на курсе CS221:\n",
    "\n",
    "![KMeans CS221](https://stanford.edu/~cpiech/cs221/img/kmeansViz.png)\n",
    "\n",
    "Крестиками изображены выбранные центры, раскраска в зависимости от принадлежности кластерам"
   ]
  },
  {
   "cell_type": "markdown",
   "metadata": {},
   "source": [
    "По результату работы K-Means, у нас есть разбиение данных на кластера (заданные своими центрами), внутри которых находятся близкие по L2 объекты.\n",
    "\n",
    "Можно научиться искать ближайших: для этого будем перебирать объекты в ближайших к запросу кластерах (тут есть пространство для оптимизации, например, можно хранить свойства кластеров: количество объектов, среднее расстояние, минимумы, максимумы - в зависимости от их значений решать, в каком количестве кластеров осуществлять поиск ближайших (проблема объектов на границе кластеров)) и собирать top-N по L2 расстоянию.\n",
    "\n",
    "Чуть больше можно почитать тут - https://stanford.edu/~cpiech/cs221/handouts/kmeans.html\n",
    "\n",
    "* **Задача.** Реализовать алгоритм k-means с возможностью поиска по полученным кластерам. _Доп баллы_ за реализацию на внешних данных (файлы). Будет здорово, если реализуете для поиска некоторый кеш и его прогрев (так как алгоритм поиска дорогой, то можем заранее предпосчитать некоторый набор запросов и хранить ответы в памяти)."
   ]
  },
  {
   "cell_type": "code",
   "execution_count": null,
   "metadata": {},
   "outputs": [],
   "source": [
    "class KMeansClustering():\n",
    "    '''\n",
    "    Принимает на вход данные (data), число кластеров (k),\n",
    "        лимит количества итераций (n_iters),\n",
    "        предел смещения центров (l2_diff)\n",
    "    '''\n",
    "    def __init__(self, data, k, n_iters=None, l2_diff=0.1, centers=None):\n",
    "        self.data = data\n",
    "        self.k = k\n",
    "        self.centers = data.sample(n=10) if not centers else centers\n",
    "        self._clusters = {}\n",
    "        \n",
    "    def clusterize(self):\n",
    "        # DO THE CODE\n",
    "    \n",
    "    def find_nn(self, element, k=5):\n",
    "        return [self.data[0]]\n",
    "\n",
    "    def find_and_print_nn(self, element):\n",
    "        plt.figure()\n",
    "        plt.imshow(element.reshape(28, 28).toarray())\n",
    "\n",
    "        result = self.find_nn(element)\n",
    "        print(\"Neighbours count: \", len(result))\n",
    "        for nn in result[0][:5]:\n",
    "            plt.figure()\n",
    "            plt.imshow(nn.reshape(28, 28).toarray())"
   ]
  },
  {
   "cell_type": "code",
   "execution_count": null,
   "metadata": {},
   "outputs": [],
   "source": [
    "kmeans = KMeansClustering(X, 1000, 1000)\n",
    "for idx in (0, 1000, 3000):\n",
    "    kmeans.find_and_print_nn(X[idx])"
   ]
  },
  {
   "cell_type": "markdown",
   "metadata": {},
   "source": [
    "Отдельной оптимизацией является умная инициализация начальных центров:\n",
    "* если вы итеративно кластеризуете гомогенный набор данных, то можно использовать центры с прошлых запусков\n",
    "* k-means++ - http://ilpubs.stanford.edu:8090/778/1/2006-13.pdf\n",
    "* можно кластеризовать не все данные, а некоторый семпл, если данных очень много"
   ]
  },
  {
   "cell_type": "markdown",
   "metadata": {},
   "source": [
    "Заметим, что при удачном выборе количества центров, незначительное изменение (добавления и удаления) набора данных не приводит к смене "
   ]
  },
  {
   "cell_type": "markdown",
   "metadata": {},
   "source": [
    "Поиск по кластерам хорошо подходит для оффлайн подсчёта ближайших (ведь все данные удобно сложены на диск, в памяти можно хранить только центры, а затем рассматривать только нужный сабсет объектов),\n",
    "особенно когда мы заранее знаем всё множество запросов (заранее считаем всех ближайших и онлайн отвечаем за `O(1)`).\n",
    "\n",
    "Но что, если запросы заведомо неизвестны?\n",
    "\n",
    "## k-NN index: NSW, HNSW\n",
    "\n",
    "Для решения такой задачи с помощью K-Means мы можем построить индекс внутри каждого кластера (либо без кластеров вовсе, тут мы становимся ограничены оперативной памятью для максимизации производительности), который бы предлагал нам лучший порядок обхода объектов, чем полный перебор.\n",
    "\n",
    "Можно было бы воспользоваться kd-tree, cover-tree, но сегодня не о них.\n",
    "\n",
    "Другой такой структурой данных является Navigable Small World (NSW) и его идеологическое развитие Hierarchical NSW (HNSW).\n",
    "Важно отметить, что всё это алгоритмы дающие приблизительный ответ (approximate nearest neighbor).\n",
    "\n",
    "Идея, которая лежит в основе Small World, предполагает, что нам удастся построить такой граф, что расстояние между двумя любыми узлами будет расти пропорционально `log(N)`, при этом степень вершин не будет очень большой (то есть две вершины скорее всего не смежные, но достижимые за малое число шагов).\n",
    "\n",
    "Искомый граф можно построить например следующим образом:\n",
    "* Построить на всех точках граф Делоне (см https://en.wikipedia.org/wiki/Delaunay_triangulation)\n",
    "* В построенный граф добавить \"длинных связей\" - рёбер, которые соединяют удалённые вершины, это можно делать различными методами, используя различные метрики, например, добавлять рёбра до вершин с самой большой степенью на некотором расстоянии.\n",
    "\n",
    "![NSW](https://habrastorage.org/web/bb7/6bc/891/bb76bc89159c4a12b105071367f76c57.png)\n",
    "\n",
    "Длинные связи обозначены красным"
   ]
  },
  {
   "cell_type": "markdown",
   "metadata": {},
   "source": [
    "При этом Hierarchical Navigable Small World получается несколько иным путём: пусть нижним слоем ирерархии является исходный граф, в нём некоторым методом выделим вершины, которые образуют следующий слой, продолжая необходимое количество раз построим иерархическую структуру, где достижимость дальних участков графа регулируется глубиной и количеством связей на соответствующем уровне.\n",
    "\n",
    "![HNSW](https://habrastorage.org/web/6a0/19a/10e/6a019a10e3fd47359f68062ca9388586.png)\n",
    "\n",
    "Идейно, это тот же NSW, мы добавляем длинные связи к исходным вершинам, в зависимости от длины связи - попадаем на тот или иной уровень иерархии.\n",
    "\n",
    "Свойством структуры являются глубина иерархии (q), количество связей на каждом уровне (m).\n",
    "\n",
    "Как осуществлять поиск ближайших соседей?\n",
    "Будем использовать жадный поиск в глубину в полученном графе:\n",
    "* берём вершины верхнего слоя\n",
    "* ищем ближайшую до запроса\n",
    "* смотрим связи этой вершины на нижележащем уровне, двигаемся по слою в сторону запроса, возвращаемся к предыдущему пункту\n",
    "* на нижнем слое жадно ищем соседей\n",
    "\n",
    "Критерием остановки можно задать количество найденных, количество пройденных шагов, количество рассмотренных на нижнем уровне соседей.\n",
    "\n",
    "Вставка новых элементов в индекс происходит путём случайного выбора максимального слоя иерархии, где будет представлена вершина, затем для каждого слоя сверху вниз добавляем связи до m ближайших, удаляем лишние связи у затронутых вершин.\n",
    "\n",
    "https://publications.hse.ru/mirror/pubs/share/folder/x5p6h7thif/direct/128296059 - approx nearest neighbors by NSW\n",
    "https://arxiv.org/ftp/arxiv/papers/1603/1603.09320.pdf - HNSW\n",
    "\n",
    "![Статистика](https://habrastorage.org/web/c39/746/e91/c39746e918764579b369c31d8c7fe7c5.png)\n",
    "\n",
    "Статистика из статьи Методы приближенного поиска ближайших соседей https://habr.com/ru/company/mailru/blog/338360/ (там есть некоторые продвинутые методы, почитайте)\n"
   ]
  },
  {
   "cell_type": "markdown",
   "metadata": {},
   "source": [
    "* __Задача.__ Воспользоваться модулем `hnswlib` (https://github.com/nmslib/hnswlib) для построения HNSW индекса на наших данных. За дополнительные баллы можете написать свою имплементацию."
   ]
  },
  {
   "cell_type": "code",
   "execution_count": null,
   "metadata": {},
   "outputs": [],
   "source": [
    "import hnswlib\n",
    "\n",
    "class HNSWIndex():\n",
    "    '''\n",
    "    Принимает на вход данные (data), глубину (q), количество связей на уровне (m).\n",
    "    '''\n",
    "    def __init__(self, data, q, m):\n",
    "        self.data = data\n",
    "        self.q = q\n",
    "        self.m = m\n",
    "        self._hnsw = None # DO IT\n",
    "    \n",
    "    def find_nn(self, element, k=5):\n",
    "        return [self.data[0]]\n",
    "\n",
    "    def find_and_print_nn(self, element):\n",
    "        plt.figure()\n",
    "        plt.imshow(element.reshape(28, 28).toarray())\n",
    "\n",
    "        result = self.find_nn(element)\n",
    "        print(\"Neighbours count: \", len(result))\n",
    "        for nn in result[0][:5]:\n",
    "            plt.figure()\n",
    "            plt.imshow(nn.reshape(28, 28).toarray())"
   ]
  },
  {
   "cell_type": "code",
   "execution_count": null,
   "metadata": {},
   "outputs": [],
   "source": [
    "hnsw = HNSWIndex(X, 8, 50)\n",
    "for idx in (0, 1000, 3000):\n",
    "    kmeans.find_and_print_nn(X[idx])"
   ]
  },
  {
   "cell_type": "markdown",
   "metadata": {},
   "source": [
    "## Точность решений\n",
    "\n",
    "* __Задача.__ Посчитать метрики Precision и Recall для использованных алгоритмов, предполагая ответ BallTree эталоном (сравните разные радиусы поиска)."
   ]
  },
  {
   "cell_type": "code",
   "execution_count": null,
   "metadata": {},
   "outputs": [],
   "source": [
    "queries = X.sample(n=1000).index\n",
    "SEARCH_R_SET = (7, 15, 50) # USE YOUR VALUES! "
   ]
  },
  {
   "cell_type": "code",
   "execution_count": null,
   "metadata": {},
   "outputs": [],
   "source": [
    "for r in SEARCH_R_SET:\n",
    "    for q in queries:\n",
    "        exact_result = tree.query_radius(np.array(X[q].toarray()), r=7)\n",
    "        lsh_result = lsh.find_nn(X[q])\n",
    "        kmeans_result = kmeans.find_nn(X[q])\n",
    "        hnsw_result = hnsw.find_nn(X[q])\n",
    "        # DO THE CALC"
   ]
  },
  {
   "cell_type": "markdown",
   "metadata": {},
   "source": [
    "## Связь с поисковыми и рекомендательными системами"
   ]
  },
  {
   "cell_type": "markdown",
   "metadata": {},
   "source": [
    "Почему же методы поиска ближайших соседей так активно изучаются, есть столько различных методов и алгоритмов, какое у них применение?\n",
    "\n",
    "Простым примером можно назвать классификацию методом kNN - кворум по соседям для классификации объекта.\n",
    "\n",
    "![KNN-Вупи](https://miro.medium.com/max/1022/1*AuXDgGrr0wbCoF6KDXXSZQ.jpeg)\n",
    "\n",
    "![kNN classification](https://www.researchgate.net/profile/Hetal_Gaudani2/publication/327281565/figure/fig2/AS:664869225365510@1535528584926/Figure-6-KNN-classification-algorithm-7-J-K-Mean-Cluster-K-mean-cluster-which-is-type.png)\n",
    "\n",
    "Чуть более сложным примером будет исправление опечатки в запросе.\n",
    "\n",
    "Следующим уровнем будет подбор кандидатов (гипотез для ответа) по схожим запросам."
   ]
  },
  {
   "cell_type": "markdown",
   "metadata": {},
   "source": [
    "О применении в рекомендательных системах, за исключением когортного анализа и коллаборативной фильтрации:\n",
    "\n",
    "Задачу __рекомендации__ можно свести к поиску ближайших соседей в следующем смысле: разделим задачу рекомендации на этап поиска кандидатов для рекомендации и ранжирования полученного списка.\n",
    "\n",
    "![KNN-CF](https://www.researchgate.net/profile/Luis_Martinez19/publication/268487452/figure/fig1/AS:613912584155138@1523379574275/Single-user-recommendation-kNN-CF.png)\n",
    "\n",
    "![Everything is a recommendation](https://miro.medium.com/max/638/1*10sfQufkGnB-fWbBaNK8rg.jpeg)\n",
    "\n",
    "Поиск кандидатов можно свести к поиску ближайших соседей следующим образом: имея поведенческие логи пользователей, мы можем обучить нейросеть, которая будет выдавать близкие эмбединги для часто встречающихся объектов. После имплементации векторизации и определения меры близости объектов, кластеризуем объекты.\n",
    "\n",
    "Поисковую систему, в некотором смысле, можно рассмотреть как рекомендательную, где по запросу мы пытаемся найти ближайшие документы из нашей базы и порекомендовать их как ответ.\n",
    "\n",
    "Задачей ранжирования (также известной как learning to rank) в данном случае будет являться отбор top-N рекомендованных объектов. В простейшем варианте это делается через обучение (по MSE метрике на предсобранном датасете) некоторой регрессионной модели, которая выдаёт скор рекомендации для пары (запрос, объект), но также может быть дополнено вектором, описывающим пользователя. Следующим уровнем обучения может являться метрика Normalized discounted cumulative gain (__nDCG__), которая штрафует за появление более релевантного объекта на позиции ниже, чем менее релевантный.\n",
    "\n",
    "![nDCG](https://miro.medium.com/max/12000/1*_a_YsiSw6K1whOzTYYq_Ag.png)\n",
    "\n",
    "![nDCG Example](https://yunjinhan.github.io/assets/NDCG.png)\n",
    "\n",
    "Подробнее - https://arxiv.org/abs/1304.6480"
   ]
  }
 ],
 "metadata": {
  "kernelspec": {
   "display_name": "Python 3",
   "language": "python",
   "name": "python3"
  },
  "language_info": {
   "codemirror_mode": {
    "name": "ipython",
    "version": 3
   },
   "file_extension": ".py",
   "mimetype": "text/x-python",
   "name": "python",
   "nbconvert_exporter": "python",
   "pygments_lexer": "ipython3",
   "version": "3.7.3"
  }
 },
 "nbformat": 4,
 "nbformat_minor": 2
}
