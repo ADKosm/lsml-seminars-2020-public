{
 "cells": [
  {
   "cell_type": "markdown",
   "metadata": {},
   "source": [
    "Панель управления облаком - https://portal.azure.com/#home"
   ]
  },
  {
   "cell_type": "markdown",
   "metadata": {},
   "source": [
    "Установить прокси себе в браузер\n",
    "\n",
    "https://chrome.google.com/webstore/detail/proxy-switchyomega/padekgcemlokbadohgkifijomclgjgif?hl=en-GB\n",
    "\n",
    "Поднять прокси до сервера\n",
    "\n",
    "`ssh -4 -D <local-port> <user>@<remotehost> -N`\n",
    " * `-D <local-port>` указывает на каком порту на локальной машине открыть прокси\n",
    " * `-N` - не открывать shell на удаленной машине - только прокси\n",
    " * `-4` - использовать IPv4\n",
    " \n",
    "Внутри Omega нужно настроить\n",
    "* Proxy - SOCKS5 | localhost | 5555 - ходить в локалхост за проксей\n",
    "* Auto switch - Host wildcard | 10.0.0.* | proxy - на всех адресах совпадающих с паттерном использовать прокси\n",
    "\n",
    "Note: 10.0.0.* - это адреса внутренней сети ваших машин в облаке. Это можно проверить в панели управления.\n"
   ]
  },
  {
   "cell_type": "markdown",
   "metadata": {},
   "source": [
    "Установить конду и жупитер на удаленную машину\n",
    "\n",
    "```bash\n",
    "# get link from this site - https://www.anaconda.com/distribution/\n",
    "\n",
    "wget https://repo.anaconda.com/archive/Anaconda3-2019.10-Linux-x86_64.sh -O install-conda.sh\n",
    "chmod +x install-conda.sh\n",
    "./install-conda.sh\n",
    "\n",
    "# add conda to PATH\n",
    "\n",
    "eval \"$(/root/anaconda3/bin/conda shell.bash hook)\" \n",
    "conda init\n",
    "```"
   ]
  },
  {
   "cell_type": "markdown",
   "metadata": {},
   "source": [
    "Запустить жупитер\n",
    "\n",
    "Note: лучше всего желать это под тмуксом\n",
    "\n",
    "* Запустить новую сессию `tmux new -s jupyter`\n",
    "* Подключиться к старой - `tmux a -t jupyter`\n",
    "* Вот более подробный список команд для тмукса - https://gist.github.com/MohamedAlaa/2961058\n",
    "\n",
    "```bash\n",
    "jupyter notebook --ip=0.0.0.0 --NotebookApp.token=\n",
    "```\n",
    "\n",
    "После чего можно открывать по 10.0.0.4:8888  # note: адрес может отличаться\n"
   ]
  },
  {
   "cell_type": "markdown",
   "metadata": {},
   "source": [
    "# Подключаем диски"
   ]
  },
  {
   "cell_type": "markdown",
   "metadata": {},
   "source": [
    "Чтобы загрузить большой объем данных, потребуется дополнительный диск на машине.\n",
    "\n",
    "После того, как он будет подключен, его нужно примонтировать"
   ]
  },
  {
   "cell_type": "markdown",
   "metadata": {},
   "source": [
    "Проверить, что блочное устройство подключено:\n",
    "```\n",
    "$ sudo fdisk -l\n",
    "```\n",
    "\n",
    "```\n",
    "...\n",
    "Disk /dev/sdc: 1 TiB, 1099511627776 bytes, 2147483648 sectors\n",
    "Units: sectors of 1 * 512 = 512 bytes\n",
    "Sector size (logical/physical): 512 bytes / 4096 bytes\n",
    "I/O size (minimum/optimal): 4096 bytes / 4096 bytes\n",
    "```"
   ]
  },
  {
   "cell_type": "markdown",
   "metadata": {},
   "source": [
    "Выделить раздел на устройстве\n",
    "```\n",
    "$ sudo parted /dev/sdc --script mklabel gpt mkpart primary ext4 0% 100%\n",
    "$ sudo mkfs -t ext4 /dev/sdc1\n",
    "$ sudo fdisk -l\n",
    "```\n",
    "\n",
    "```\n",
    "...\n",
    "Device     Start        End    Sectors  Size Type\n",
    "/dev/sdc1   2048 2147481599 2147479552 1024G Linux filesystem\n",
    "```"
   ]
  },
  {
   "cell_type": "markdown",
   "metadata": {},
   "source": [
    "Примонтировать\n",
    "```\n",
    "$ sudo mkdir /data\n",
    "$ sudo mount /dev/sdc1 /data\n",
    "```"
   ]
  },
  {
   "cell_type": "code",
   "execution_count": null,
   "metadata": {},
   "outputs": [],
   "source": []
  }
 ],
 "metadata": {
  "kernelspec": {
   "display_name": "Python 3",
   "language": "python",
   "name": "python3"
  },
  "language_info": {
   "codemirror_mode": {
    "name": "ipython",
    "version": 3
   },
   "file_extension": ".py",
   "mimetype": "text/x-python",
   "name": "python",
   "nbconvert_exporter": "python",
   "pygments_lexer": "ipython3",
   "version": "3.7.3"
  }
 },
 "nbformat": 4,
 "nbformat_minor": 2
}
